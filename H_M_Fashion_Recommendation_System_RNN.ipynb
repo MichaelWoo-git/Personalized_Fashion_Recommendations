{
 "cells": [
  {
   "cell_type": "markdown",
   "id": "4ec72eda",
   "metadata": {},
   "source": [
    "__Imports__"
   ]
  },
  {
   "cell_type": "code",
   "execution_count": 1,
   "id": "96684a9f",
   "metadata": {},
   "outputs": [],
   "source": [
    "import pandas as pd\n",
    "import numpy as np\n",
    "from tqdm.notebook import tqdm"
   ]
  },
  {
   "cell_type": "markdown",
   "id": "39ce9c17",
   "metadata": {},
   "source": [
    "__Read in Data__"
   ]
  },
  {
   "cell_type": "code",
   "execution_count": null,
   "id": "eb9c5e2a",
   "metadata": {},
   "outputs": [],
   "source": [
    "import cudf\n",
    "print('RAPIDS version',cudf.__version__)"
   ]
  },
  {
   "cell_type": "code",
   "execution_count": 2,
   "id": "d08b80aa",
   "metadata": {},
   "outputs": [],
   "source": [
    "train = pd.read_csv(\"C:/Users/Michael/Github/transactions_train.csv\")"
   ]
  },
  {
   "cell_type": "code",
   "execution_count": 3,
   "id": "903ab85b",
   "metadata": {},
   "outputs": [],
   "source": [
    "# train = pd.DataFrame(train_1[:1000])"
   ]
  },
  {
   "cell_type": "code",
   "execution_count": 4,
   "id": "ba662442-7cac-446c-92e5-c468ad552df8",
   "metadata": {
    "scrolled": true
   },
   "outputs": [
    {
     "data": {
      "text/html": [
       "<div>\n",
       "<style scoped>\n",
       "    .dataframe tbody tr th:only-of-type {\n",
       "        vertical-align: middle;\n",
       "    }\n",
       "\n",
       "    .dataframe tbody tr th {\n",
       "        vertical-align: top;\n",
       "    }\n",
       "\n",
       "    .dataframe thead th {\n",
       "        text-align: right;\n",
       "    }\n",
       "</style>\n",
       "<table border=\"1\" class=\"dataframe\">\n",
       "  <thead>\n",
       "    <tr style=\"text-align: right;\">\n",
       "      <th></th>\n",
       "      <th>t_dat</th>\n",
       "      <th>customer_id</th>\n",
       "      <th>article_id</th>\n",
       "      <th>price</th>\n",
       "      <th>sales_channel_id</th>\n",
       "    </tr>\n",
       "  </thead>\n",
       "  <tbody>\n",
       "    <tr>\n",
       "      <th>0</th>\n",
       "      <td>2018-09-20</td>\n",
       "      <td>000058a12d5b43e67d225668fa1f8d618c13dc232df0ca...</td>\n",
       "      <td>663713001</td>\n",
       "      <td>0.050831</td>\n",
       "      <td>2</td>\n",
       "    </tr>\n",
       "    <tr>\n",
       "      <th>1</th>\n",
       "      <td>2018-09-20</td>\n",
       "      <td>000058a12d5b43e67d225668fa1f8d618c13dc232df0ca...</td>\n",
       "      <td>541518023</td>\n",
       "      <td>0.030492</td>\n",
       "      <td>2</td>\n",
       "    </tr>\n",
       "    <tr>\n",
       "      <th>2</th>\n",
       "      <td>2018-09-20</td>\n",
       "      <td>00007d2de826758b65a93dd24ce629ed66842531df6699...</td>\n",
       "      <td>505221004</td>\n",
       "      <td>0.015237</td>\n",
       "      <td>2</td>\n",
       "    </tr>\n",
       "    <tr>\n",
       "      <th>3</th>\n",
       "      <td>2018-09-20</td>\n",
       "      <td>00007d2de826758b65a93dd24ce629ed66842531df6699...</td>\n",
       "      <td>685687003</td>\n",
       "      <td>0.016932</td>\n",
       "      <td>2</td>\n",
       "    </tr>\n",
       "    <tr>\n",
       "      <th>4</th>\n",
       "      <td>2018-09-20</td>\n",
       "      <td>00007d2de826758b65a93dd24ce629ed66842531df6699...</td>\n",
       "      <td>685687004</td>\n",
       "      <td>0.016932</td>\n",
       "      <td>2</td>\n",
       "    </tr>\n",
       "    <tr>\n",
       "      <th>...</th>\n",
       "      <td>...</td>\n",
       "      <td>...</td>\n",
       "      <td>...</td>\n",
       "      <td>...</td>\n",
       "      <td>...</td>\n",
       "    </tr>\n",
       "    <tr>\n",
       "      <th>31788319</th>\n",
       "      <td>2020-09-22</td>\n",
       "      <td>fff2282977442e327b45d8c89afde25617d00124d0f999...</td>\n",
       "      <td>929511001</td>\n",
       "      <td>0.059305</td>\n",
       "      <td>2</td>\n",
       "    </tr>\n",
       "    <tr>\n",
       "      <th>31788320</th>\n",
       "      <td>2020-09-22</td>\n",
       "      <td>fff2282977442e327b45d8c89afde25617d00124d0f999...</td>\n",
       "      <td>891322004</td>\n",
       "      <td>0.042356</td>\n",
       "      <td>2</td>\n",
       "    </tr>\n",
       "    <tr>\n",
       "      <th>31788321</th>\n",
       "      <td>2020-09-22</td>\n",
       "      <td>fff380805474b287b05cb2a7507b9a013482f7dd0bce0e...</td>\n",
       "      <td>918325001</td>\n",
       "      <td>0.043203</td>\n",
       "      <td>1</td>\n",
       "    </tr>\n",
       "    <tr>\n",
       "      <th>31788322</th>\n",
       "      <td>2020-09-22</td>\n",
       "      <td>fff4d3a8b1f3b60af93e78c30a7cb4cf75edaf2590d3e5...</td>\n",
       "      <td>833459002</td>\n",
       "      <td>0.006763</td>\n",
       "      <td>1</td>\n",
       "    </tr>\n",
       "    <tr>\n",
       "      <th>31788323</th>\n",
       "      <td>2020-09-22</td>\n",
       "      <td>fffef3b6b73545df065b521e19f64bf6fe93bfd450ab20...</td>\n",
       "      <td>898573003</td>\n",
       "      <td>0.033881</td>\n",
       "      <td>2</td>\n",
       "    </tr>\n",
       "  </tbody>\n",
       "</table>\n",
       "<p>31788324 rows × 5 columns</p>\n",
       "</div>"
      ],
      "text/plain": [
       "               t_dat                                        customer_id  \\\n",
       "0         2018-09-20  000058a12d5b43e67d225668fa1f8d618c13dc232df0ca...   \n",
       "1         2018-09-20  000058a12d5b43e67d225668fa1f8d618c13dc232df0ca...   \n",
       "2         2018-09-20  00007d2de826758b65a93dd24ce629ed66842531df6699...   \n",
       "3         2018-09-20  00007d2de826758b65a93dd24ce629ed66842531df6699...   \n",
       "4         2018-09-20  00007d2de826758b65a93dd24ce629ed66842531df6699...   \n",
       "...              ...                                                ...   \n",
       "31788319  2020-09-22  fff2282977442e327b45d8c89afde25617d00124d0f999...   \n",
       "31788320  2020-09-22  fff2282977442e327b45d8c89afde25617d00124d0f999...   \n",
       "31788321  2020-09-22  fff380805474b287b05cb2a7507b9a013482f7dd0bce0e...   \n",
       "31788322  2020-09-22  fff4d3a8b1f3b60af93e78c30a7cb4cf75edaf2590d3e5...   \n",
       "31788323  2020-09-22  fffef3b6b73545df065b521e19f64bf6fe93bfd450ab20...   \n",
       "\n",
       "          article_id     price  sales_channel_id  \n",
       "0          663713001  0.050831                 2  \n",
       "1          541518023  0.030492                 2  \n",
       "2          505221004  0.015237                 2  \n",
       "3          685687003  0.016932                 2  \n",
       "4          685687004  0.016932                 2  \n",
       "...              ...       ...               ...  \n",
       "31788319   929511001  0.059305                 2  \n",
       "31788320   891322004  0.042356                 2  \n",
       "31788321   918325001  0.043203                 1  \n",
       "31788322   833459002  0.006763                 1  \n",
       "31788323   898573003  0.033881                 2  \n",
       "\n",
       "[31788324 rows x 5 columns]"
      ]
     },
     "execution_count": 4,
     "metadata": {},
     "output_type": "execute_result"
    }
   ],
   "source": [
    "train"
   ]
  },
  {
   "cell_type": "code",
   "execution_count": 5,
   "id": "f8cd8c4e",
   "metadata": {},
   "outputs": [],
   "source": [
    "max_length = len(np.unique(train['article_id']))"
   ]
  },
  {
   "cell_type": "markdown",
   "id": "6c64d86d",
   "metadata": {},
   "source": [
    "__Get the sequences of articles together by customer__"
   ]
  },
  {
   "cell_type": "code",
   "execution_count": 6,
   "id": "10fd601d",
   "metadata": {},
   "outputs": [],
   "source": [
    "train['article_id'] = train['article_id'].astype(str)\n",
    "train['article_id'] = train.groupby(['customer_id'])['article_id'].transform(lambda x: ','.join(x))"
   ]
  },
  {
   "cell_type": "code",
   "execution_count": 7,
   "id": "5092fb88",
   "metadata": {},
   "outputs": [
    {
     "data": {
      "text/html": [
       "<div>\n",
       "<style scoped>\n",
       "    .dataframe tbody tr th:only-of-type {\n",
       "        vertical-align: middle;\n",
       "    }\n",
       "\n",
       "    .dataframe tbody tr th {\n",
       "        vertical-align: top;\n",
       "    }\n",
       "\n",
       "    .dataframe thead th {\n",
       "        text-align: right;\n",
       "    }\n",
       "</style>\n",
       "<table border=\"1\" class=\"dataframe\">\n",
       "  <thead>\n",
       "    <tr style=\"text-align: right;\">\n",
       "      <th></th>\n",
       "      <th>t_dat</th>\n",
       "      <th>customer_id</th>\n",
       "      <th>article_id</th>\n",
       "      <th>price</th>\n",
       "      <th>sales_channel_id</th>\n",
       "    </tr>\n",
       "  </thead>\n",
       "  <tbody>\n",
       "    <tr>\n",
       "      <th>0</th>\n",
       "      <td>2018-09-20</td>\n",
       "      <td>000058a12d5b43e67d225668fa1f8d618c13dc232df0ca...</td>\n",
       "      <td>663713001,541518023,663713001,578020002,723529...</td>\n",
       "      <td>0.050831</td>\n",
       "      <td>2</td>\n",
       "    </tr>\n",
       "    <tr>\n",
       "      <th>1</th>\n",
       "      <td>2018-09-20</td>\n",
       "      <td>000058a12d5b43e67d225668fa1f8d618c13dc232df0ca...</td>\n",
       "      <td>663713001,541518023,663713001,578020002,723529...</td>\n",
       "      <td>0.030492</td>\n",
       "      <td>2</td>\n",
       "    </tr>\n",
       "    <tr>\n",
       "      <th>2</th>\n",
       "      <td>2018-09-20</td>\n",
       "      <td>00007d2de826758b65a93dd24ce629ed66842531df6699...</td>\n",
       "      <td>505221004,685687003,685687004,685687001,505221...</td>\n",
       "      <td>0.015237</td>\n",
       "      <td>2</td>\n",
       "    </tr>\n",
       "    <tr>\n",
       "      <th>3</th>\n",
       "      <td>2018-09-20</td>\n",
       "      <td>00007d2de826758b65a93dd24ce629ed66842531df6699...</td>\n",
       "      <td>505221004,685687003,685687004,685687001,505221...</td>\n",
       "      <td>0.016932</td>\n",
       "      <td>2</td>\n",
       "    </tr>\n",
       "    <tr>\n",
       "      <th>4</th>\n",
       "      <td>2018-09-20</td>\n",
       "      <td>00007d2de826758b65a93dd24ce629ed66842531df6699...</td>\n",
       "      <td>505221004,685687003,685687004,685687001,505221...</td>\n",
       "      <td>0.016932</td>\n",
       "      <td>2</td>\n",
       "    </tr>\n",
       "    <tr>\n",
       "      <th>...</th>\n",
       "      <td>...</td>\n",
       "      <td>...</td>\n",
       "      <td>...</td>\n",
       "      <td>...</td>\n",
       "      <td>...</td>\n",
       "    </tr>\n",
       "    <tr>\n",
       "      <th>31788319</th>\n",
       "      <td>2020-09-22</td>\n",
       "      <td>fff2282977442e327b45d8c89afde25617d00124d0f999...</td>\n",
       "      <td>650037001,688688002,507910001,652000008,626810...</td>\n",
       "      <td>0.059305</td>\n",
       "      <td>2</td>\n",
       "    </tr>\n",
       "    <tr>\n",
       "      <th>31788320</th>\n",
       "      <td>2020-09-22</td>\n",
       "      <td>fff2282977442e327b45d8c89afde25617d00124d0f999...</td>\n",
       "      <td>650037001,688688002,507910001,652000008,626810...</td>\n",
       "      <td>0.042356</td>\n",
       "      <td>2</td>\n",
       "    </tr>\n",
       "    <tr>\n",
       "      <th>31788321</th>\n",
       "      <td>2020-09-22</td>\n",
       "      <td>fff380805474b287b05cb2a7507b9a013482f7dd0bce0e...</td>\n",
       "      <td>129085001,855077001,861023001,861023001,733098...</td>\n",
       "      <td>0.043203</td>\n",
       "      <td>1</td>\n",
       "    </tr>\n",
       "    <tr>\n",
       "      <th>31788322</th>\n",
       "      <td>2020-09-22</td>\n",
       "      <td>fff4d3a8b1f3b60af93e78c30a7cb4cf75edaf2590d3e5...</td>\n",
       "      <td>675068002,697564010,697564010,742924002,699081...</td>\n",
       "      <td>0.006763</td>\n",
       "      <td>1</td>\n",
       "    </tr>\n",
       "    <tr>\n",
       "      <th>31788323</th>\n",
       "      <td>2020-09-22</td>\n",
       "      <td>fffef3b6b73545df065b521e19f64bf6fe93bfd450ab20...</td>\n",
       "      <td>811235004,811235004,820037001,820037001,829783...</td>\n",
       "      <td>0.033881</td>\n",
       "      <td>2</td>\n",
       "    </tr>\n",
       "  </tbody>\n",
       "</table>\n",
       "<p>31788324 rows × 5 columns</p>\n",
       "</div>"
      ],
      "text/plain": [
       "               t_dat                                        customer_id  \\\n",
       "0         2018-09-20  000058a12d5b43e67d225668fa1f8d618c13dc232df0ca...   \n",
       "1         2018-09-20  000058a12d5b43e67d225668fa1f8d618c13dc232df0ca...   \n",
       "2         2018-09-20  00007d2de826758b65a93dd24ce629ed66842531df6699...   \n",
       "3         2018-09-20  00007d2de826758b65a93dd24ce629ed66842531df6699...   \n",
       "4         2018-09-20  00007d2de826758b65a93dd24ce629ed66842531df6699...   \n",
       "...              ...                                                ...   \n",
       "31788319  2020-09-22  fff2282977442e327b45d8c89afde25617d00124d0f999...   \n",
       "31788320  2020-09-22  fff2282977442e327b45d8c89afde25617d00124d0f999...   \n",
       "31788321  2020-09-22  fff380805474b287b05cb2a7507b9a013482f7dd0bce0e...   \n",
       "31788322  2020-09-22  fff4d3a8b1f3b60af93e78c30a7cb4cf75edaf2590d3e5...   \n",
       "31788323  2020-09-22  fffef3b6b73545df065b521e19f64bf6fe93bfd450ab20...   \n",
       "\n",
       "                                                 article_id     price  \\\n",
       "0         663713001,541518023,663713001,578020002,723529...  0.050831   \n",
       "1         663713001,541518023,663713001,578020002,723529...  0.030492   \n",
       "2         505221004,685687003,685687004,685687001,505221...  0.015237   \n",
       "3         505221004,685687003,685687004,685687001,505221...  0.016932   \n",
       "4         505221004,685687003,685687004,685687001,505221...  0.016932   \n",
       "...                                                     ...       ...   \n",
       "31788319  650037001,688688002,507910001,652000008,626810...  0.059305   \n",
       "31788320  650037001,688688002,507910001,652000008,626810...  0.042356   \n",
       "31788321  129085001,855077001,861023001,861023001,733098...  0.043203   \n",
       "31788322  675068002,697564010,697564010,742924002,699081...  0.006763   \n",
       "31788323  811235004,811235004,820037001,820037001,829783...  0.033881   \n",
       "\n",
       "          sales_channel_id  \n",
       "0                        2  \n",
       "1                        2  \n",
       "2                        2  \n",
       "3                        2  \n",
       "4                        2  \n",
       "...                    ...  \n",
       "31788319                 2  \n",
       "31788320                 2  \n",
       "31788321                 1  \n",
       "31788322                 1  \n",
       "31788323                 2  \n",
       "\n",
       "[31788324 rows x 5 columns]"
      ]
     },
     "execution_count": 7,
     "metadata": {},
     "output_type": "execute_result"
    }
   ],
   "source": [
    "train"
   ]
  },
  {
   "cell_type": "code",
   "execution_count": 8,
   "id": "90bae438",
   "metadata": {},
   "outputs": [],
   "source": [
    "train = train.groupby(['t_dat','customer_id']).head()"
   ]
  },
  {
   "cell_type": "code",
   "execution_count": 9,
   "id": "d31bb199",
   "metadata": {},
   "outputs": [
    {
     "name": "stderr",
     "output_type": "stream",
     "text": [
      "C:\\Users\\Michael\\AppData\\Local\\Temp\\ipykernel_12224\\3742703963.py:1: SettingWithCopyWarning: \n",
      "A value is trying to be set on a copy of a slice from a DataFrame\n",
      "\n",
      "See the caveats in the documentation: https://pandas.pydata.org/pandas-docs/stable/user_guide/indexing.html#returning-a-view-versus-a-copy\n",
      "  train.drop(['price','sales_channel_id'],axis=1,inplace=True)\n"
     ]
    }
   ],
   "source": [
    "train.drop(['price','sales_channel_id'],axis=1,inplace=True)"
   ]
  },
  {
   "cell_type": "code",
   "execution_count": 10,
   "id": "1372ec14",
   "metadata": {},
   "outputs": [],
   "source": [
    "train = pd.DataFrame(train.drop_duplicates())"
   ]
  },
  {
   "cell_type": "code",
   "execution_count": 11,
   "id": "50b4012e",
   "metadata": {},
   "outputs": [
    {
     "data": {
      "text/html": [
       "<div>\n",
       "<style scoped>\n",
       "    .dataframe tbody tr th:only-of-type {\n",
       "        vertical-align: middle;\n",
       "    }\n",
       "\n",
       "    .dataframe tbody tr th {\n",
       "        vertical-align: top;\n",
       "    }\n",
       "\n",
       "    .dataframe thead th {\n",
       "        text-align: right;\n",
       "    }\n",
       "</style>\n",
       "<table border=\"1\" class=\"dataframe\">\n",
       "  <thead>\n",
       "    <tr style=\"text-align: right;\">\n",
       "      <th></th>\n",
       "      <th>t_dat</th>\n",
       "      <th>customer_id</th>\n",
       "      <th>article_id</th>\n",
       "    </tr>\n",
       "  </thead>\n",
       "  <tbody>\n",
       "    <tr>\n",
       "      <th>0</th>\n",
       "      <td>2018-09-20</td>\n",
       "      <td>000058a12d5b43e67d225668fa1f8d618c13dc232df0ca...</td>\n",
       "      <td>663713001,541518023,663713001,578020002,723529...</td>\n",
       "    </tr>\n",
       "    <tr>\n",
       "      <th>2</th>\n",
       "      <td>2018-09-20</td>\n",
       "      <td>00007d2de826758b65a93dd24ce629ed66842531df6699...</td>\n",
       "      <td>505221004,685687003,685687004,685687001,505221...</td>\n",
       "    </tr>\n",
       "    <tr>\n",
       "      <th>7</th>\n",
       "      <td>2018-09-20</td>\n",
       "      <td>00083cda041544b2fbb0e0d2905ad17da7cf1007526fb4...</td>\n",
       "      <td>688873012,501323011,598859003,688873020,688873...</td>\n",
       "    </tr>\n",
       "    <tr>\n",
       "      <th>12</th>\n",
       "      <td>2018-09-20</td>\n",
       "      <td>0008968c0d451dbc5a9968da03196fe20051965edde741...</td>\n",
       "      <td>531310002,529841001,662980002,496111003,561752...</td>\n",
       "    </tr>\n",
       "    <tr>\n",
       "      <th>14</th>\n",
       "      <td>2018-09-20</td>\n",
       "      <td>000aa7f0dc06cd7174389e76c9e132a67860c5f65f9706...</td>\n",
       "      <td>501820043,501820043,674681001,671505001,671505...</td>\n",
       "    </tr>\n",
       "    <tr>\n",
       "      <th>...</th>\n",
       "      <td>...</td>\n",
       "      <td>...</td>\n",
       "      <td>...</td>\n",
       "    </tr>\n",
       "    <tr>\n",
       "      <th>31788310</th>\n",
       "      <td>2020-09-22</td>\n",
       "      <td>ffd4cf2217de4a0a3f9f610cdec334c803692a18af08ac...</td>\n",
       "      <td>507909022,507909004,507909004,633130002,687934...</td>\n",
       "    </tr>\n",
       "    <tr>\n",
       "      <th>31788319</th>\n",
       "      <td>2020-09-22</td>\n",
       "      <td>fff2282977442e327b45d8c89afde25617d00124d0f999...</td>\n",
       "      <td>650037001,688688002,507910001,652000008,626810...</td>\n",
       "    </tr>\n",
       "    <tr>\n",
       "      <th>31788321</th>\n",
       "      <td>2020-09-22</td>\n",
       "      <td>fff380805474b287b05cb2a7507b9a013482f7dd0bce0e...</td>\n",
       "      <td>129085001,855077001,861023001,861023001,733098...</td>\n",
       "    </tr>\n",
       "    <tr>\n",
       "      <th>31788322</th>\n",
       "      <td>2020-09-22</td>\n",
       "      <td>fff4d3a8b1f3b60af93e78c30a7cb4cf75edaf2590d3e5...</td>\n",
       "      <td>675068002,697564010,697564010,742924002,699081...</td>\n",
       "    </tr>\n",
       "    <tr>\n",
       "      <th>31788323</th>\n",
       "      <td>2020-09-22</td>\n",
       "      <td>fffef3b6b73545df065b521e19f64bf6fe93bfd450ab20...</td>\n",
       "      <td>811235004,811235004,820037001,820037001,829783...</td>\n",
       "    </tr>\n",
       "  </tbody>\n",
       "</table>\n",
       "<p>9080179 rows × 3 columns</p>\n",
       "</div>"
      ],
      "text/plain": [
       "               t_dat                                        customer_id  \\\n",
       "0         2018-09-20  000058a12d5b43e67d225668fa1f8d618c13dc232df0ca...   \n",
       "2         2018-09-20  00007d2de826758b65a93dd24ce629ed66842531df6699...   \n",
       "7         2018-09-20  00083cda041544b2fbb0e0d2905ad17da7cf1007526fb4...   \n",
       "12        2018-09-20  0008968c0d451dbc5a9968da03196fe20051965edde741...   \n",
       "14        2018-09-20  000aa7f0dc06cd7174389e76c9e132a67860c5f65f9706...   \n",
       "...              ...                                                ...   \n",
       "31788310  2020-09-22  ffd4cf2217de4a0a3f9f610cdec334c803692a18af08ac...   \n",
       "31788319  2020-09-22  fff2282977442e327b45d8c89afde25617d00124d0f999...   \n",
       "31788321  2020-09-22  fff380805474b287b05cb2a7507b9a013482f7dd0bce0e...   \n",
       "31788322  2020-09-22  fff4d3a8b1f3b60af93e78c30a7cb4cf75edaf2590d3e5...   \n",
       "31788323  2020-09-22  fffef3b6b73545df065b521e19f64bf6fe93bfd450ab20...   \n",
       "\n",
       "                                                 article_id  \n",
       "0         663713001,541518023,663713001,578020002,723529...  \n",
       "2         505221004,685687003,685687004,685687001,505221...  \n",
       "7         688873012,501323011,598859003,688873020,688873...  \n",
       "12        531310002,529841001,662980002,496111003,561752...  \n",
       "14        501820043,501820043,674681001,671505001,671505...  \n",
       "...                                                     ...  \n",
       "31788310  507909022,507909004,507909004,633130002,687934...  \n",
       "31788319  650037001,688688002,507910001,652000008,626810...  \n",
       "31788321  129085001,855077001,861023001,861023001,733098...  \n",
       "31788322  675068002,697564010,697564010,742924002,699081...  \n",
       "31788323  811235004,811235004,820037001,820037001,829783...  \n",
       "\n",
       "[9080179 rows x 3 columns]"
      ]
     },
     "execution_count": 11,
     "metadata": {},
     "output_type": "execute_result"
    }
   ],
   "source": [
    "train"
   ]
  },
  {
   "cell_type": "code",
   "execution_count": 12,
   "id": "3f094d40",
   "metadata": {},
   "outputs": [],
   "source": [
    "def date_master(article_length):\n",
    "    length = len(article_length.split(\",\"))\n",
    "    return length"
   ]
  },
  {
   "cell_type": "code",
   "execution_count": 13,
   "id": "1689bdfa",
   "metadata": {},
   "outputs": [],
   "source": [
    "def date_multiplier(dt,length):\n",
    "    date = dt\n",
    "    temp = []\n",
    "    for i in range(int(length)):\n",
    "        temp.append(date)\n",
    "    return \",\".join(temp)"
   ]
  },
  {
   "cell_type": "code",
   "execution_count": 14,
   "id": "c2c64f73",
   "metadata": {
    "scrolled": true
   },
   "outputs": [],
   "source": [
    "train['length'] = train.apply(lambda x : date_master(x['article_id']),axis=1)"
   ]
  },
  {
   "cell_type": "code",
   "execution_count": 15,
   "id": "93a8de42",
   "metadata": {},
   "outputs": [],
   "source": [
    "train['t_dat'] = pd.to_datetime(train['t_dat'])"
   ]
  },
  {
   "cell_type": "code",
   "execution_count": 16,
   "id": "7bf4a583",
   "metadata": {},
   "outputs": [],
   "source": [
    "train = train.sort_values(['customer_id','t_dat'])"
   ]
  },
  {
   "cell_type": "code",
   "execution_count": 17,
   "id": "8a53f6b8",
   "metadata": {},
   "outputs": [],
   "source": [
    "train['nb_days'] = train.groupby('customer_id')['t_dat'].apply(lambda x: x-x.iat[0]).dt.days"
   ]
  },
  {
   "cell_type": "code",
   "execution_count": 18,
   "id": "528791e4",
   "metadata": {},
   "outputs": [],
   "source": [
    "train['nb_days'] = train.apply(lambda x : date_multiplier(str(x['nb_days']),x['length']),axis=1)"
   ]
  },
  {
   "cell_type": "code",
   "execution_count": 19,
   "id": "515d8d09",
   "metadata": {},
   "outputs": [],
   "source": [
    "train['t_dat'] = train['t_dat'].astype(str)\n",
    "train['t_dat'] = train.groupby(['customer_id'])['t_dat'].transform(lambda x: ' '.join(x))"
   ]
  },
  {
   "cell_type": "code",
   "execution_count": 20,
   "id": "4fecdb81",
   "metadata": {},
   "outputs": [
    {
     "data": {
      "text/html": [
       "<div>\n",
       "<style scoped>\n",
       "    .dataframe tbody tr th:only-of-type {\n",
       "        vertical-align: middle;\n",
       "    }\n",
       "\n",
       "    .dataframe tbody tr th {\n",
       "        vertical-align: top;\n",
       "    }\n",
       "\n",
       "    .dataframe thead th {\n",
       "        text-align: right;\n",
       "    }\n",
       "</style>\n",
       "<table border=\"1\" class=\"dataframe\">\n",
       "  <thead>\n",
       "    <tr style=\"text-align: right;\">\n",
       "      <th></th>\n",
       "      <th>t_dat</th>\n",
       "      <th>customer_id</th>\n",
       "      <th>article_id</th>\n",
       "      <th>length</th>\n",
       "      <th>nb_days</th>\n",
       "    </tr>\n",
       "  </thead>\n",
       "  <tbody>\n",
       "    <tr>\n",
       "      <th>4212358</th>\n",
       "      <td>2018-12-27 2019-05-02 2019-05-25 2019-07-25 20...</td>\n",
       "      <td>00000dbacae5abe5e23885899a1fa44253a17956c6d1c3...</td>\n",
       "      <td>625548001,176209023,627759010,697138006,568601...</td>\n",
       "      <td>21</td>\n",
       "      <td>0,0,0,0,0,0,0,0,0,0,0,0,0,0,0,0,0,0,0,0,0</td>\n",
       "    </tr>\n",
       "    <tr>\n",
       "      <th>9663224</th>\n",
       "      <td>2018-12-27 2019-05-02 2019-05-25 2019-07-25 20...</td>\n",
       "      <td>00000dbacae5abe5e23885899a1fa44253a17956c6d1c3...</td>\n",
       "      <td>625548001,176209023,627759010,697138006,568601...</td>\n",
       "      <td>21</td>\n",
       "      <td>126,126,126,126,126,126,126,126,126,126,126,12...</td>\n",
       "    </tr>\n",
       "    <tr>\n",
       "      <th>10754876</th>\n",
       "      <td>2018-12-27 2019-05-02 2019-05-25 2019-07-25 20...</td>\n",
       "      <td>00000dbacae5abe5e23885899a1fa44253a17956c6d1c3...</td>\n",
       "      <td>625548001,176209023,627759010,697138006,568601...</td>\n",
       "      <td>21</td>\n",
       "      <td>149,149,149,149,149,149,149,149,149,149,149,14...</td>\n",
       "    </tr>\n",
       "    <tr>\n",
       "      <th>14479578</th>\n",
       "      <td>2018-12-27 2019-05-02 2019-05-25 2019-07-25 20...</td>\n",
       "      <td>00000dbacae5abe5e23885899a1fa44253a17956c6d1c3...</td>\n",
       "      <td>625548001,176209023,627759010,697138006,568601...</td>\n",
       "      <td>21</td>\n",
       "      <td>210,210,210,210,210,210,210,210,210,210,210,21...</td>\n",
       "    </tr>\n",
       "    <tr>\n",
       "      <th>16728347</th>\n",
       "      <td>2018-12-27 2019-05-02 2019-05-25 2019-07-25 20...</td>\n",
       "      <td>00000dbacae5abe5e23885899a1fa44253a17956c6d1c3...</td>\n",
       "      <td>625548001,176209023,627759010,697138006,568601...</td>\n",
       "      <td>21</td>\n",
       "      <td>265,265,265,265,265,265,265,265,265,265,265,26...</td>\n",
       "    </tr>\n",
       "    <tr>\n",
       "      <th>...</th>\n",
       "      <td>...</td>\n",
       "      <td>...</td>\n",
       "      <td>...</td>\n",
       "      <td>...</td>\n",
       "      <td>...</td>\n",
       "    </tr>\n",
       "    <tr>\n",
       "      <th>24185205</th>\n",
       "      <td>2020-04-05 2020-04-09 2020-04-25 2020-06-22</td>\n",
       "      <td>ffffd7744cebcf3aca44ae7049d2a94b87074c3d4ffe38...</td>\n",
       "      <td>821395003,806241002,714790020,866755002,840360...</td>\n",
       "      <td>7</td>\n",
       "      <td>0,0,0,0,0,0,0</td>\n",
       "    </tr>\n",
       "    <tr>\n",
       "      <th>24375394</th>\n",
       "      <td>2020-04-05 2020-04-09 2020-04-25 2020-06-22</td>\n",
       "      <td>ffffd7744cebcf3aca44ae7049d2a94b87074c3d4ffe38...</td>\n",
       "      <td>821395003,806241002,714790020,866755002,840360...</td>\n",
       "      <td>7</td>\n",
       "      <td>4,4,4,4,4,4,4</td>\n",
       "    </tr>\n",
       "    <tr>\n",
       "      <th>25077914</th>\n",
       "      <td>2020-04-05 2020-04-09 2020-04-25 2020-06-22</td>\n",
       "      <td>ffffd7744cebcf3aca44ae7049d2a94b87074c3d4ffe38...</td>\n",
       "      <td>821395003,806241002,714790020,866755002,840360...</td>\n",
       "      <td>7</td>\n",
       "      <td>20,20,20,20,20,20,20</td>\n",
       "    </tr>\n",
       "    <tr>\n",
       "      <th>27806865</th>\n",
       "      <td>2020-04-05 2020-04-09 2020-04-25 2020-06-22</td>\n",
       "      <td>ffffd7744cebcf3aca44ae7049d2a94b87074c3d4ffe38...</td>\n",
       "      <td>821395003,806241002,714790020,866755002,840360...</td>\n",
       "      <td>7</td>\n",
       "      <td>78,78,78,78,78,78,78</td>\n",
       "    </tr>\n",
       "    <tr>\n",
       "      <th>19867243</th>\n",
       "      <td>2019-12-04</td>\n",
       "      <td>ffffd9ac14e89946416d80e791d064701994755c3ab686...</td>\n",
       "      <td>806050001</td>\n",
       "      <td>1</td>\n",
       "      <td>0</td>\n",
       "    </tr>\n",
       "  </tbody>\n",
       "</table>\n",
       "<p>4159172 rows × 5 columns</p>\n",
       "</div>"
      ],
      "text/plain": [
       "                                                      t_dat  \\\n",
       "4212358   2018-12-27 2019-05-02 2019-05-25 2019-07-25 20...   \n",
       "9663224   2018-12-27 2019-05-02 2019-05-25 2019-07-25 20...   \n",
       "10754876  2018-12-27 2019-05-02 2019-05-25 2019-07-25 20...   \n",
       "14479578  2018-12-27 2019-05-02 2019-05-25 2019-07-25 20...   \n",
       "16728347  2018-12-27 2019-05-02 2019-05-25 2019-07-25 20...   \n",
       "...                                                     ...   \n",
       "24185205        2020-04-05 2020-04-09 2020-04-25 2020-06-22   \n",
       "24375394        2020-04-05 2020-04-09 2020-04-25 2020-06-22   \n",
       "25077914        2020-04-05 2020-04-09 2020-04-25 2020-06-22   \n",
       "27806865        2020-04-05 2020-04-09 2020-04-25 2020-06-22   \n",
       "19867243                                         2019-12-04   \n",
       "\n",
       "                                                customer_id  \\\n",
       "4212358   00000dbacae5abe5e23885899a1fa44253a17956c6d1c3...   \n",
       "9663224   00000dbacae5abe5e23885899a1fa44253a17956c6d1c3...   \n",
       "10754876  00000dbacae5abe5e23885899a1fa44253a17956c6d1c3...   \n",
       "14479578  00000dbacae5abe5e23885899a1fa44253a17956c6d1c3...   \n",
       "16728347  00000dbacae5abe5e23885899a1fa44253a17956c6d1c3...   \n",
       "...                                                     ...   \n",
       "24185205  ffffd7744cebcf3aca44ae7049d2a94b87074c3d4ffe38...   \n",
       "24375394  ffffd7744cebcf3aca44ae7049d2a94b87074c3d4ffe38...   \n",
       "25077914  ffffd7744cebcf3aca44ae7049d2a94b87074c3d4ffe38...   \n",
       "27806865  ffffd7744cebcf3aca44ae7049d2a94b87074c3d4ffe38...   \n",
       "19867243  ffffd9ac14e89946416d80e791d064701994755c3ab686...   \n",
       "\n",
       "                                                 article_id  length  \\\n",
       "4212358   625548001,176209023,627759010,697138006,568601...      21   \n",
       "9663224   625548001,176209023,627759010,697138006,568601...      21   \n",
       "10754876  625548001,176209023,627759010,697138006,568601...      21   \n",
       "14479578  625548001,176209023,627759010,697138006,568601...      21   \n",
       "16728347  625548001,176209023,627759010,697138006,568601...      21   \n",
       "...                                                     ...     ...   \n",
       "24185205  821395003,806241002,714790020,866755002,840360...       7   \n",
       "24375394  821395003,806241002,714790020,866755002,840360...       7   \n",
       "25077914  821395003,806241002,714790020,866755002,840360...       7   \n",
       "27806865  821395003,806241002,714790020,866755002,840360...       7   \n",
       "19867243                                          806050001       1   \n",
       "\n",
       "                                                    nb_days  \n",
       "4212358           0,0,0,0,0,0,0,0,0,0,0,0,0,0,0,0,0,0,0,0,0  \n",
       "9663224   126,126,126,126,126,126,126,126,126,126,126,12...  \n",
       "10754876  149,149,149,149,149,149,149,149,149,149,149,14...  \n",
       "14479578  210,210,210,210,210,210,210,210,210,210,210,21...  \n",
       "16728347  265,265,265,265,265,265,265,265,265,265,265,26...  \n",
       "...                                                     ...  \n",
       "24185205                                      0,0,0,0,0,0,0  \n",
       "24375394                                      4,4,4,4,4,4,4  \n",
       "25077914                               20,20,20,20,20,20,20  \n",
       "27806865                               78,78,78,78,78,78,78  \n",
       "19867243                                                  0  \n",
       "\n",
       "[4159172 rows x 5 columns]"
      ]
     },
     "execution_count": 20,
     "metadata": {},
     "output_type": "execute_result"
    }
   ],
   "source": [
    "train.groupby(['customer_id']).head()"
   ]
  },
  {
   "cell_type": "code",
   "execution_count": 21,
   "id": "e12aefdc",
   "metadata": {},
   "outputs": [],
   "source": [
    "train.drop(['t_dat','length'],axis=1,inplace=True)"
   ]
  },
  {
   "cell_type": "code",
   "execution_count": 22,
   "id": "2a6ff91a",
   "metadata": {},
   "outputs": [
    {
     "data": {
      "text/html": [
       "<div>\n",
       "<style scoped>\n",
       "    .dataframe tbody tr th:only-of-type {\n",
       "        vertical-align: middle;\n",
       "    }\n",
       "\n",
       "    .dataframe tbody tr th {\n",
       "        vertical-align: top;\n",
       "    }\n",
       "\n",
       "    .dataframe thead th {\n",
       "        text-align: right;\n",
       "    }\n",
       "</style>\n",
       "<table border=\"1\" class=\"dataframe\">\n",
       "  <thead>\n",
       "    <tr style=\"text-align: right;\">\n",
       "      <th></th>\n",
       "      <th>customer_id</th>\n",
       "      <th>article_id</th>\n",
       "      <th>nb_days</th>\n",
       "    </tr>\n",
       "  </thead>\n",
       "  <tbody>\n",
       "    <tr>\n",
       "      <th>4212358</th>\n",
       "      <td>00000dbacae5abe5e23885899a1fa44253a17956c6d1c3...</td>\n",
       "      <td>625548001,176209023,627759010,697138006,568601...</td>\n",
       "      <td>0,0,0,0,0,0,0,0,0,0,0,0,0,0,0,0,0,0,0,0,0</td>\n",
       "    </tr>\n",
       "    <tr>\n",
       "      <th>9663224</th>\n",
       "      <td>00000dbacae5abe5e23885899a1fa44253a17956c6d1c3...</td>\n",
       "      <td>625548001,176209023,627759010,697138006,568601...</td>\n",
       "      <td>126,126,126,126,126,126,126,126,126,126,126,12...</td>\n",
       "    </tr>\n",
       "    <tr>\n",
       "      <th>10754876</th>\n",
       "      <td>00000dbacae5abe5e23885899a1fa44253a17956c6d1c3...</td>\n",
       "      <td>625548001,176209023,627759010,697138006,568601...</td>\n",
       "      <td>149,149,149,149,149,149,149,149,149,149,149,14...</td>\n",
       "    </tr>\n",
       "    <tr>\n",
       "      <th>14479578</th>\n",
       "      <td>00000dbacae5abe5e23885899a1fa44253a17956c6d1c3...</td>\n",
       "      <td>625548001,176209023,627759010,697138006,568601...</td>\n",
       "      <td>210,210,210,210,210,210,210,210,210,210,210,21...</td>\n",
       "    </tr>\n",
       "    <tr>\n",
       "      <th>16728347</th>\n",
       "      <td>00000dbacae5abe5e23885899a1fa44253a17956c6d1c3...</td>\n",
       "      <td>625548001,176209023,627759010,697138006,568601...</td>\n",
       "      <td>265,265,265,265,265,265,265,265,265,265,265,26...</td>\n",
       "    </tr>\n",
       "  </tbody>\n",
       "</table>\n",
       "</div>"
      ],
      "text/plain": [
       "                                                customer_id  \\\n",
       "4212358   00000dbacae5abe5e23885899a1fa44253a17956c6d1c3...   \n",
       "9663224   00000dbacae5abe5e23885899a1fa44253a17956c6d1c3...   \n",
       "10754876  00000dbacae5abe5e23885899a1fa44253a17956c6d1c3...   \n",
       "14479578  00000dbacae5abe5e23885899a1fa44253a17956c6d1c3...   \n",
       "16728347  00000dbacae5abe5e23885899a1fa44253a17956c6d1c3...   \n",
       "\n",
       "                                                 article_id  \\\n",
       "4212358   625548001,176209023,627759010,697138006,568601...   \n",
       "9663224   625548001,176209023,627759010,697138006,568601...   \n",
       "10754876  625548001,176209023,627759010,697138006,568601...   \n",
       "14479578  625548001,176209023,627759010,697138006,568601...   \n",
       "16728347  625548001,176209023,627759010,697138006,568601...   \n",
       "\n",
       "                                                    nb_days  \n",
       "4212358           0,0,0,0,0,0,0,0,0,0,0,0,0,0,0,0,0,0,0,0,0  \n",
       "9663224   126,126,126,126,126,126,126,126,126,126,126,12...  \n",
       "10754876  149,149,149,149,149,149,149,149,149,149,149,14...  \n",
       "14479578  210,210,210,210,210,210,210,210,210,210,210,21...  \n",
       "16728347  265,265,265,265,265,265,265,265,265,265,265,26...  "
      ]
     },
     "execution_count": 22,
     "metadata": {},
     "output_type": "execute_result"
    }
   ],
   "source": [
    "train.head()"
   ]
  },
  {
   "cell_type": "markdown",
   "id": "8badd22f",
   "metadata": {},
   "source": [
    "## Feature Transformation"
   ]
  },
  {
   "cell_type": "markdown",
   "id": "de0953fe",
   "metadata": {},
   "source": [
    "__Tokenization & Encoding of item_id__"
   ]
  },
  {
   "cell_type": "code",
   "execution_count": 23,
   "id": "4a1fc07a",
   "metadata": {},
   "outputs": [],
   "source": [
    "import tensorflow as tf\n",
    "tokenizer = tf.keras.preprocessing.text.Tokenizer(num_words=12,split=',')"
   ]
  },
  {
   "cell_type": "code",
   "execution_count": 24,
   "id": "ac473a1f",
   "metadata": {},
   "outputs": [],
   "source": [
    "tokenizer.fit_on_texts(train['article_id'])"
   ]
  },
  {
   "cell_type": "code",
   "execution_count": 25,
   "id": "348e6e73",
   "metadata": {
    "scrolled": true
   },
   "outputs": [
    {
     "data": {
      "text/plain": [
       "['706016001 706016002 610776002 610776002 372860001 759871002 610776001 673677002 399223001 156231001 372860002 448509014']"
      ]
     },
     "execution_count": 25,
     "metadata": {},
     "output_type": "execute_result"
    }
   ],
   "source": [
    "tokenizer.sequences_to_texts([[1,2,3,3,4,5,6,7,8,9,10,11,12]])"
   ]
  },
  {
   "cell_type": "code",
   "execution_count": 26,
   "id": "b556d461",
   "metadata": {},
   "outputs": [],
   "source": [
    "import numpy as np\n",
    "bins = np.linspace(1,100,100)\n",
    "def returning_binning(arr):\n",
    "    temp = []\n",
    "    arr = arr.split(',')\n",
    "    for i in arr:\n",
    "        temp.append(str(np.digitize(i,bins)))\n",
    "    return \",\".join(temp)"
   ]
  },
  {
   "cell_type": "code",
   "execution_count": 30,
   "id": "3ab6c678",
   "metadata": {
    "scrolled": true
   },
   "outputs": [
    {
     "name": "stderr",
     "output_type": "stream",
     "text": [
      "\n",
      "KeyboardInterrupt\n",
      "\n"
     ]
    }
   ],
   "source": [
    "train['nb_days'] = train.nb_days.apply(lambda x: returning_binning(x))"
   ]
  },
  {
   "cell_type": "code",
   "execution_count": 85,
   "id": "7835ef1b",
   "metadata": {},
   "outputs": [
    {
     "data": {
      "text/plain": [
       "['0',\n",
       " '4',\n",
       " '158',\n",
       " '339',\n",
       " '0',\n",
       " '0',\n",
       " '58',\n",
       " '0',\n",
       " '17',\n",
       " '0',\n",
       " '0',\n",
       " '0',\n",
       " '0',\n",
       " '0',\n",
       " '0',\n",
       " '0',\n",
       " '150']"
      ]
     },
     "execution_count": 85,
     "metadata": {},
     "output_type": "execute_result"
    }
   ],
   "source": [
    "temp"
   ]
  },
  {
   "cell_type": "code",
   "execution_count": 90,
   "id": "e648b0db",
   "metadata": {},
   "outputs": [],
   "source": [
    "funct = lambda x: ','.join(x)"
   ]
  },
  {
   "cell_type": "code",
   "execution_count": 91,
   "id": "5f5300ac",
   "metadata": {},
   "outputs": [
    {
     "data": {
      "text/plain": [
       "'0,4,158,339,0,0,58,0,17,0,0,0,0,0,0,0,150'"
      ]
     },
     "execution_count": 91,
     "metadata": {},
     "output_type": "execute_result"
    }
   ],
   "source": [
    "funct(temp)"
   ]
  },
  {
   "cell_type": "markdown",
   "id": "1bb14235",
   "metadata": {},
   "source": [
    "__Converting Hex to Integers__"
   ]
  },
  {
   "cell_type": "code",
   "execution_count": 39,
   "id": "abac970c",
   "metadata": {},
   "outputs": [],
   "source": [
    "def hex_to_signed(source):\n",
    "    \"\"\"Convert a string hex value to a signed hexidecimal value.\n",
    "\n",
    "    This assumes that source is the proper length, and the sign bit\n",
    "    is the first bit in the first byte of the correct length.\n",
    "\n",
    "    hex_to_signed(\"F\") should return -1.\n",
    "    hex_to_signed(\"0F\") should return 15.\n",
    "    \"\"\"\n",
    "    if not isinstance(source, str):\n",
    "        raise ValueError(\"string type required\")\n",
    "    if 0 == len(source):\n",
    "        raise valueError(\"string is empty\")\n",
    "    sign_bit_mask = 1 << (len(source)*4-1)\n",
    "    other_bits_mask = sign_bit_mask - 1\n",
    "    value = int(source, 16)\n",
    "    return -(value & sign_bit_mask) | (value & other_bits_mask)"
   ]
  },
  {
   "cell_type": "markdown",
   "id": "adbc52c8",
   "metadata": {},
   "source": [
    "__Selecting and formating data types in dataframe__"
   ]
  },
  {
   "cell_type": "code",
   "execution_count": 42,
   "id": "9fa2d0c6",
   "metadata": {},
   "outputs": [
    {
     "data": {
      "text/html": [
       "<div>\n",
       "<style scoped>\n",
       "    .dataframe tbody tr th:only-of-type {\n",
       "        vertical-align: middle;\n",
       "    }\n",
       "\n",
       "    .dataframe tbody tr th {\n",
       "        vertical-align: top;\n",
       "    }\n",
       "\n",
       "    .dataframe thead th {\n",
       "        text-align: right;\n",
       "    }\n",
       "</style>\n",
       "<table border=\"1\" class=\"dataframe\">\n",
       "  <thead>\n",
       "    <tr style=\"text-align: right;\">\n",
       "      <th></th>\n",
       "      <th>t_dat</th>\n",
       "      <th>customer_id</th>\n",
       "      <th>article_id</th>\n",
       "    </tr>\n",
       "  </thead>\n",
       "  <tbody>\n",
       "    <tr>\n",
       "      <th>0</th>\n",
       "      <td>2018-09-20</td>\n",
       "      <td>6116990065284462810764946559699987067290722768...</td>\n",
       "      <td>663713001 541518023 663713001 578020002 723529...</td>\n",
       "    </tr>\n",
       "    <tr>\n",
       "      <th>1</th>\n",
       "      <td>2018-09-20</td>\n",
       "      <td>6116990065284462810764946559699987067290722768...</td>\n",
       "      <td>663713001 541518023 663713001 578020002 723529...</td>\n",
       "    </tr>\n",
       "    <tr>\n",
       "      <th>2</th>\n",
       "      <td>2018-09-20</td>\n",
       "      <td>8639559392216894130813047803836240585733025821...</td>\n",
       "      <td>505221004 685687003 685687004 685687001 505221...</td>\n",
       "    </tr>\n",
       "    <tr>\n",
       "      <th>3</th>\n",
       "      <td>2018-09-20</td>\n",
       "      <td>8639559392216894130813047803836240585733025821...</td>\n",
       "      <td>505221004 685687003 685687004 685687001 505221...</td>\n",
       "    </tr>\n",
       "    <tr>\n",
       "      <th>4</th>\n",
       "      <td>2018-09-20</td>\n",
       "      <td>8639559392216894130813047803836240585733025821...</td>\n",
       "      <td>505221004 685687003 685687004 685687001 505221...</td>\n",
       "    </tr>\n",
       "  </tbody>\n",
       "</table>\n",
       "</div>"
      ],
      "text/plain": [
       "       t_dat                                        customer_id  \\\n",
       "0 2018-09-20  6116990065284462810764946559699987067290722768...   \n",
       "1 2018-09-20  6116990065284462810764946559699987067290722768...   \n",
       "2 2018-09-20  8639559392216894130813047803836240585733025821...   \n",
       "3 2018-09-20  8639559392216894130813047803836240585733025821...   \n",
       "4 2018-09-20  8639559392216894130813047803836240585733025821...   \n",
       "\n",
       "                                          article_id  \n",
       "0  663713001 541518023 663713001 578020002 723529...  \n",
       "1  663713001 541518023 663713001 578020002 723529...  \n",
       "2  505221004 685687003 685687004 685687001 505221...  \n",
       "3  505221004 685687003 685687004 685687001 505221...  \n",
       "4  505221004 685687003 685687004 685687001 505221...  "
      ]
     },
     "execution_count": 42,
     "metadata": {},
     "output_type": "execute_result"
    }
   ],
   "source": [
    "train['customer_id'] = train['customer_id'].apply(lambda x : hex_to_signed(x))\n",
    "#train['article_id'] = train.article_id.astype('int32')\n",
    "train['t_dat'] = pd.to_datetime(train['t_dat'])\n",
    "train = train[['t_dat','customer_id','article_id']]\n",
    "train.head()"
   ]
  },
  {
   "cell_type": "markdown",
   "id": "7250d686",
   "metadata": {},
   "source": [
    "__Saving this for later__"
   ]
  },
  {
   "cell_type": "code",
   "execution_count": 7,
   "id": "fe8cf425",
   "metadata": {},
   "outputs": [],
   "source": [
    "# another_train = train"
   ]
  },
  {
   "cell_type": "markdown",
   "id": "4a691e7a",
   "metadata": {},
   "source": [
    "__Customer's Last Week Purchases__"
   ]
  },
  {
   "cell_type": "code",
   "execution_count": 43,
   "id": "89f8a462",
   "metadata": {},
   "outputs": [
    {
     "name": "stdout",
     "output_type": "stream",
     "text": [
      "Train shape: (5181535, 5)\n"
     ]
    },
    {
     "data": {
      "text/html": [
       "<div>\n",
       "<style scoped>\n",
       "    .dataframe tbody tr th:only-of-type {\n",
       "        vertical-align: middle;\n",
       "    }\n",
       "\n",
       "    .dataframe tbody tr th {\n",
       "        vertical-align: top;\n",
       "    }\n",
       "\n",
       "    .dataframe thead th {\n",
       "        text-align: right;\n",
       "    }\n",
       "</style>\n",
       "<table border=\"1\" class=\"dataframe\">\n",
       "  <thead>\n",
       "    <tr style=\"text-align: right;\">\n",
       "      <th></th>\n",
       "      <th>t_dat</th>\n",
       "      <th>customer_id</th>\n",
       "      <th>article_id</th>\n",
       "      <th>max_dat</th>\n",
       "      <th>diff_dat</th>\n",
       "    </tr>\n",
       "  </thead>\n",
       "  <tbody>\n",
       "    <tr>\n",
       "      <th>49</th>\n",
       "      <td>2018-09-20</td>\n",
       "      <td>5981405501434810419031299841272056822028636268...</td>\n",
       "      <td>649356002 579941002 629760002 625229004</td>\n",
       "      <td>2018-09-20</td>\n",
       "      <td>0</td>\n",
       "    </tr>\n",
       "    <tr>\n",
       "      <th>50</th>\n",
       "      <td>2018-09-20</td>\n",
       "      <td>5981405501434810419031299841272056822028636268...</td>\n",
       "      <td>649356002 579941002 629760002 625229004</td>\n",
       "      <td>2018-09-20</td>\n",
       "      <td>0</td>\n",
       "    </tr>\n",
       "    <tr>\n",
       "      <th>51</th>\n",
       "      <td>2018-09-20</td>\n",
       "      <td>5981405501434810419031299841272056822028636268...</td>\n",
       "      <td>649356002 579941002 629760002 625229004</td>\n",
       "      <td>2018-09-20</td>\n",
       "      <td>0</td>\n",
       "    </tr>\n",
       "    <tr>\n",
       "      <th>52</th>\n",
       "      <td>2018-09-20</td>\n",
       "      <td>5981405501434810419031299841272056822028636268...</td>\n",
       "      <td>649356002 579941002 629760002 625229004</td>\n",
       "      <td>2018-09-20</td>\n",
       "      <td>0</td>\n",
       "    </tr>\n",
       "    <tr>\n",
       "      <th>61</th>\n",
       "      <td>2018-09-20</td>\n",
       "      <td>1132591264840105692788114398749857557049430095...</td>\n",
       "      <td>613456009 633675001 648719001 427114015 567475...</td>\n",
       "      <td>2018-09-20</td>\n",
       "      <td>0</td>\n",
       "    </tr>\n",
       "  </tbody>\n",
       "</table>\n",
       "</div>"
      ],
      "text/plain": [
       "        t_dat                                        customer_id  \\\n",
       "49 2018-09-20  5981405501434810419031299841272056822028636268...   \n",
       "50 2018-09-20  5981405501434810419031299841272056822028636268...   \n",
       "51 2018-09-20  5981405501434810419031299841272056822028636268...   \n",
       "52 2018-09-20  5981405501434810419031299841272056822028636268...   \n",
       "61 2018-09-20  1132591264840105692788114398749857557049430095...   \n",
       "\n",
       "                                           article_id    max_dat  diff_dat  \n",
       "49            649356002 579941002 629760002 625229004 2018-09-20         0  \n",
       "50            649356002 579941002 629760002 625229004 2018-09-20         0  \n",
       "51            649356002 579941002 629760002 625229004 2018-09-20         0  \n",
       "52            649356002 579941002 629760002 625229004 2018-09-20         0  \n",
       "61  613456009 633675001 648719001 427114015 567475... 2018-09-20         0  "
      ]
     },
     "execution_count": 43,
     "metadata": {},
     "output_type": "execute_result"
    }
   ],
   "source": [
    "tmp = train.groupby('customer_id').t_dat.max().reset_index()\n",
    "tmp.columns = ['customer_id','max_dat']\n",
    "train = train.merge(tmp,on=['customer_id'],how='left')\n",
    "train['diff_dat'] = (train.max_dat - train.t_dat).dt.days\n",
    "train = train.loc[train['diff_dat']<=6]\n",
    "print('Train shape:',train.shape)\n",
    "train.head()"
   ]
  },
  {
   "cell_type": "markdown",
   "id": "964f83cb",
   "metadata": {},
   "source": [
    "__Recommendation Most Often Prev Purchased Items__"
   ]
  },
  {
   "cell_type": "code",
   "execution_count": 9,
   "id": "f2a016e1",
   "metadata": {},
   "outputs": [
    {
     "data": {
      "text/html": [
       "<div>\n",
       "<style scoped>\n",
       "    .dataframe tbody tr th:only-of-type {\n",
       "        vertical-align: middle;\n",
       "    }\n",
       "\n",
       "    .dataframe tbody tr th {\n",
       "        vertical-align: top;\n",
       "    }\n",
       "\n",
       "    .dataframe thead th {\n",
       "        text-align: right;\n",
       "    }\n",
       "</style>\n",
       "<table border=\"1\" class=\"dataframe\">\n",
       "  <thead>\n",
       "    <tr style=\"text-align: right;\">\n",
       "      <th></th>\n",
       "      <th>t_dat</th>\n",
       "      <th>customer_id</th>\n",
       "      <th>article_id</th>\n",
       "      <th>max_dat</th>\n",
       "      <th>diff_dat</th>\n",
       "      <th>ct</th>\n",
       "    </tr>\n",
       "  </thead>\n",
       "  <tbody>\n",
       "    <tr>\n",
       "      <th>1158548</th>\n",
       "      <td>2019-07-16</td>\n",
       "      <td>1122880311838375530037224418800749068125981861...</td>\n",
       "      <td>719348003</td>\n",
       "      <td>2019-07-16</td>\n",
       "      <td>0</td>\n",
       "      <td>100</td>\n",
       "    </tr>\n",
       "    <tr>\n",
       "      <th>80218</th>\n",
       "      <td>2018-10-04</td>\n",
       "      <td>-673191760722678788667587928976895833688046975...</td>\n",
       "      <td>557247001</td>\n",
       "      <td>2018-10-04</td>\n",
       "      <td>0</td>\n",
       "      <td>86</td>\n",
       "    </tr>\n",
       "    <tr>\n",
       "      <th>2149868</th>\n",
       "      <td>2020-03-06</td>\n",
       "      <td>9249039390400736591087536058610073983058079884...</td>\n",
       "      <td>852521001</td>\n",
       "      <td>2020-03-06</td>\n",
       "      <td>0</td>\n",
       "      <td>81</td>\n",
       "    </tr>\n",
       "    <tr>\n",
       "      <th>3423153</th>\n",
       "      <td>2020-07-06</td>\n",
       "      <td>-518177034797192986786595171574626635942011784...</td>\n",
       "      <td>685813001</td>\n",
       "      <td>2020-07-06</td>\n",
       "      <td>0</td>\n",
       "      <td>80</td>\n",
       "    </tr>\n",
       "    <tr>\n",
       "      <th>871769</th>\n",
       "      <td>2019-05-14</td>\n",
       "      <td>1283729545703826238940687917472870211201319841...</td>\n",
       "      <td>695545001</td>\n",
       "      <td>2019-05-14</td>\n",
       "      <td>0</td>\n",
       "      <td>80</td>\n",
       "    </tr>\n",
       "  </tbody>\n",
       "</table>\n",
       "</div>"
      ],
      "text/plain": [
       "             t_dat                                        customer_id  \\\n",
       "1158548 2019-07-16  1122880311838375530037224418800749068125981861...   \n",
       "80218   2018-10-04  -673191760722678788667587928976895833688046975...   \n",
       "2149868 2020-03-06  9249039390400736591087536058610073983058079884...   \n",
       "3423153 2020-07-06  -518177034797192986786595171574626635942011784...   \n",
       "871769  2019-05-14  1283729545703826238940687917472870211201319841...   \n",
       "\n",
       "         article_id    max_dat  diff_dat   ct  \n",
       "1158548   719348003 2019-07-16         0  100  \n",
       "80218     557247001 2018-10-04         0   86  \n",
       "2149868   852521001 2020-03-06         0   81  \n",
       "3423153   685813001 2020-07-06         0   80  \n",
       "871769    695545001 2019-05-14         0   80  "
      ]
     },
     "execution_count": 9,
     "metadata": {},
     "output_type": "execute_result"
    }
   ],
   "source": [
    "tmp = train.groupby(['customer_id','article_id'])['t_dat'].agg('count').reset_index()\n",
    "tmp.columns = ['customer_id','article_id','ct']\n",
    "train = train.merge(tmp,on=['customer_id','article_id'],how='left')\n",
    "train = train.sort_values(['ct','t_dat'],ascending=False)\n",
    "train = train.drop_duplicates(['customer_id','article_id'])\n",
    "train = train.sort_values(['ct','t_dat'],ascending=False)\n",
    "train.head()"
   ]
  },
  {
   "cell_type": "code",
   "execution_count": 10,
   "id": "3f9741e6",
   "metadata": {},
   "outputs": [],
   "source": [
    "df = train[['customer_id','article_id']]"
   ]
  },
  {
   "cell_type": "markdown",
   "id": "fa237d91",
   "metadata": {},
   "source": [
    "__Recommend Items Purchased Together__"
   ]
  },
  {
   "cell_type": "markdown",
   "id": "1cf29283",
   "metadata": {},
   "source": [
    "# USE PANDAS TO MAP COLUMN WITH DICTIONARY"
   ]
  },
  {
   "cell_type": "code",
   "execution_count": null,
   "id": "fd54e941",
   "metadata": {},
   "outputs": [],
   "source": [
    "pairs = np.load('pairs.npy',allow_pickle=True).item()\n",
    "train['article_id2'] = train.article_id.map(pairs)\n",
    "train.head()"
   ]
  },
  {
   "cell_type": "markdown",
   "id": "7fa56184",
   "metadata": {},
   "source": [
    "# RECOMMENDATION OF PAIRED ITEMS"
   ]
  },
  {
   "cell_type": "code",
   "execution_count": null,
   "id": "98de910d",
   "metadata": {},
   "outputs": [],
   "source": [
    "train2 = train[['customer_id','article_id2']].copy()\n",
    "train2 = train2.loc[train2.article_id2.notnull()]\n",
    "train2 = train2.drop_duplicates(['customer_id','article_id2'])\n",
    "train2 = train2.rename({'article_id2':'article_id'},axis=1)\n",
    "train2.head()"
   ]
  },
  {
   "cell_type": "markdown",
   "id": "0ec38b4e",
   "metadata": {},
   "source": [
    "# CONCATENATE PAIRED ITEM RECOMMENDATION AFTER PREVIOUS PURCHASED RECOMMENDATIONS"
   ]
  },
  {
   "cell_type": "code",
   "execution_count": null,
   "id": "cdd84a3c",
   "metadata": {},
   "outputs": [],
   "source": [
    "train = train[['customer_id','article_id']]\n",
    "train = pd.concat([train,train2],axis=0,ignore_index=True)\n",
    "train.article_id = train.article_id.astype('int32')\n",
    "train = train.drop_duplicates(['customer_id','article_id'])\n",
    "train.head()"
   ]
  },
  {
   "cell_type": "markdown",
   "id": "0968a55c",
   "metadata": {},
   "source": [
    "# CONVERT RECOMMENDATIONS INTO SINGLE STRING"
   ]
  },
  {
   "cell_type": "code",
   "execution_count": null,
   "id": "aeaaa9d2",
   "metadata": {},
   "outputs": [],
   "source": [
    "train.article_id = ' 0' + train.article_id.astype('str')\n",
    "preds = pd.DataFrame( train.groupby('customer_id').article_id.sum().reset_index() )\n",
    "preds.columns = ['customer_id','prediction']\n",
    "preds.head()"
   ]
  },
  {
   "cell_type": "code",
   "execution_count": null,
   "id": "b4e05740",
   "metadata": {},
   "outputs": [],
   "source": [
    "another_train.t_dat = pd.to_datetime(another_train.t_dat)\n",
    "another_train = another_train.loc[another_train.t_dat >= pd.to_datetime('2020-09-16')]\n",
    "top12 = ' 0' + ' 0'.join(another_train.article_id.value_counts().index.astype('str')[:12])\n",
    "print(\"Last week's top 12 popular items:\")\n",
    "print( top12 )"
   ]
  },
  {
   "cell_type": "code",
   "execution_count": null,
   "id": "70079d30",
   "metadata": {},
   "outputs": [],
   "source": [
    "sub = pd.read_csv(\"C:/Users/Michael/Github/sample_submission.csv\")\n",
    "sub = sub[['customer_id']]\n",
    "sub['customer_id_2'] = sub['customer_id'].apply(lambda x : hex_to_signed(x))\n",
    "sub = sub.merge(preds.rename({'customer_id':'customer_id_2'},axis=1),on='customer_id_2', how='left').fillna('')\n",
    "\n",
    "del sub['customer_id_2']\n",
    "sub.prediction = sub.prediction + top12\n",
    "sub.prediction = sub.prediction.str.strip()\n",
    "sub.prediction = sub.prediction.str[:131]\n",
    "#sub.to_csv(f'submission.csv',index=False)\n",
    "sub.head()"
   ]
  },
  {
   "cell_type": "code",
   "execution_count": null,
   "id": "5e91a41b",
   "metadata": {},
   "outputs": [],
   "source": [
    "sub.to_csv(f'submission_04_30_2022.csv',index=False)"
   ]
  },
  {
   "cell_type": "code",
   "execution_count": null,
   "id": "d7dd9da7",
   "metadata": {},
   "outputs": [],
   "source": []
  }
 ],
 "metadata": {
  "kernelspec": {
   "display_name": "GPU_ACC",
   "language": "python",
   "name": "gpu_acc"
  },
  "language_info": {
   "codemirror_mode": {
    "name": "ipython",
    "version": 3
   },
   "file_extension": ".py",
   "mimetype": "text/x-python",
   "name": "python",
   "nbconvert_exporter": "python",
   "pygments_lexer": "ipython3",
   "version": "3.8.12"
  }
 },
 "nbformat": 4,
 "nbformat_minor": 5
}
