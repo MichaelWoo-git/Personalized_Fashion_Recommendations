{
 "cells": [
  {
   "cell_type": "code",
   "execution_count": 1,
   "id": "f05bbb82",
   "metadata": {},
   "outputs": [],
   "source": [
    "import pandas as pd\n",
    "import numpy as np\n",
    "from math import sqrt\n",
    "from pathlib import Path\n",
    "from tqdm import tqdm\n",
    "N = 12\n",
    "df_trans = pd.read_csv(\"C:/Users/Michael/Github/transactions_train.csv\",dtype={'article_id': str})\n",
    "df_trans['t_dat'] = pd.to_datetime(df_trans['t_dat'])"
   ]
  },
  {
   "cell_type": "code",
   "execution_count": 2,
   "id": "7ea8848e",
   "metadata": {},
   "outputs": [],
   "source": [
    "# Step1\n",
    "df = df_trans[['t_dat', 'customer_id', 'article_id']].copy()"
   ]
  },
  {
   "cell_type": "code",
   "execution_count": 3,
   "id": "dbe88f2c",
   "metadata": {},
   "outputs": [],
   "source": [
    "last_ts = df['t_dat'].max()"
   ]
  },
  {
   "cell_type": "code",
   "execution_count": 4,
   "id": "3a0c1196",
   "metadata": {},
   "outputs": [
    {
     "name": "stderr",
     "output_type": "stream",
     "text": [
      "\n",
      "KeyboardInterrupt\n",
      "\n"
     ]
    }
   ],
   "source": [
    "df['ldbw'] = df['t_dat'].apply(lambda d: last_ts - (last_ts - d).floor('7D'))"
   ]
  },
  {
   "cell_type": "code",
   "execution_count": null,
   "id": "85ad8974",
   "metadata": {},
   "outputs": [],
   "source": [
    "df_cust = pd.read_csv(\"C:/Users/Michael/Github/customers.csv\")"
   ]
  },
  {
   "cell_type": "code",
   "execution_count": null,
   "id": "d1295788",
   "metadata": {},
   "outputs": [],
   "source": [
    "df.head()"
   ]
  },
  {
   "cell_type": "code",
   "execution_count": null,
   "id": "40e3bdb0",
   "metadata": {},
   "outputs": [],
   "source": [
    "weekly_sales = df.drop('customer_id', axis=1).groupby(['ldbw', 'article_id']).count()"
   ]
  },
  {
   "cell_type": "code",
   "execution_count": null,
   "id": "18478a3a",
   "metadata": {},
   "outputs": [],
   "source": [
    "weekly_sales = weekly_sales.rename(columns={'t_dat': 'count'})"
   ]
  },
  {
   "cell_type": "code",
   "execution_count": null,
   "id": "1b43e12e",
   "metadata": {},
   "outputs": [],
   "source": [
    "df = df.join(weekly_sales, on=['ldbw', 'article_id'])"
   ]
  },
  {
   "cell_type": "code",
   "execution_count": null,
   "id": "6a531a41",
   "metadata": {},
   "outputs": [],
   "source": [
    "weekly_sales = weekly_sales.reset_index().set_index('article_id')"
   ]
  },
  {
   "cell_type": "code",
   "execution_count": null,
   "id": "11fea02e",
   "metadata": {},
   "outputs": [],
   "source": [
    "last_day = last_ts.strftime('%Y-%m-%d')"
   ]
  },
  {
   "cell_type": "code",
   "execution_count": null,
   "id": "3e98d880",
   "metadata": {},
   "outputs": [],
   "source": [
    "df = df.join(\n",
    "    weekly_sales.loc[weekly_sales['ldbw']==last_day, ['count']],\n",
    "    on='article_id', rsuffix=\"_targ\")"
   ]
  },
  {
   "cell_type": "code",
   "execution_count": null,
   "id": "ffe35d6d",
   "metadata": {},
   "outputs": [],
   "source": [
    "df['count_targ'].fillna(0, inplace=True)"
   ]
  },
  {
   "cell_type": "code",
   "execution_count": null,
   "id": "63f90fbb",
   "metadata": {},
   "outputs": [],
   "source": [
    "del weekly_sales"
   ]
  },
  {
   "cell_type": "code",
   "execution_count": null,
   "id": "ce217438",
   "metadata": {},
   "outputs": [],
   "source": [
    "df['quotient'] = df['count_targ'] / df['count']"
   ]
  },
  {
   "cell_type": "code",
   "execution_count": null,
   "id": "6d15933d",
   "metadata": {},
   "outputs": [],
   "source": [
    "# purchase_dict = {}"
   ]
  },
  {
   "cell_type": "code",
   "execution_count": null,
   "id": "205a3e4a",
   "metadata": {},
   "outputs": [],
   "source": [
    "# for i in tqdm(df.index):\n",
    "#     cust_id = df.at[i, 'customer_id']\n",
    "#     art_id = df.at[i, 'article_id']\n",
    "#     t_dat = df.at[i, 't_dat']\n",
    "\n",
    "#     if cust_id not in purchase_dict:\n",
    "#         purchase_dict[cust_id] = {}\n",
    "\n",
    "#     if art_id not in purchase_dict[cust_id]:\n",
    "#         purchase_dict[cust_id][art_id] = 0\n",
    "    \n",
    "#     x = max(1, (last_ts - t_dat).days)\n",
    "\n",
    "#     a, b, c, d = 2.5e4, 1.5e5, 2e-1, 1e3\n",
    "#     y = a / np.sqrt(x) + b * np.exp(-c*x) - d\n",
    "\n",
    "#     value = df.at[i, 'quotient'] * max(0, y)\n",
    "#     purchase_dict[cust_id][art_id] += value\n"
   ]
  },
  {
   "cell_type": "code",
   "execution_count": null,
   "id": "97ac363e",
   "metadata": {},
   "outputs": [],
   "source": [
    "# target_sales = df.drop('customer_id', axis=1).groupby('article_id')['quotient'].sum()"
   ]
  },
  {
   "cell_type": "code",
   "execution_count": null,
   "id": "9ab89592",
   "metadata": {},
   "outputs": [],
   "source": [
    "# general_pred = target_sales.nlargest(N).index.tolist()"
   ]
  },
  {
   "cell_type": "code",
   "execution_count": null,
   "id": "42c7387e",
   "metadata": {},
   "outputs": [],
   "source": [
    "general_pred = ['706016001 706016002 610776002 610776002 372860001 759871002 610776001 673677002 399223001 156231001 372860002 448509014']"
   ]
  },
  {
   "cell_type": "code",
   "execution_count": null,
   "id": "4d6e1c9d",
   "metadata": {},
   "outputs": [],
   "source": []
  },
  {
   "cell_type": "code",
   "execution_count": 19,
   "id": "d6e06c1e",
   "metadata": {},
   "outputs": [],
   "source": [
    "# Step2 & Step3\n",
    "pairs = np.load('pairs.npy',allow_pickle=True).item()\n",
    "sub = pd.read_csv(\"C:/Users/Michael/Github/sample_submission.csv\")"
   ]
  },
  {
   "cell_type": "code",
   "execution_count": 20,
   "id": "d0a0a944",
   "metadata": {},
   "outputs": [
    {
     "name": "stderr",
     "output_type": "stream",
     "text": [
      "100%|██████████████████████████████████████████████████████████████████████| 1371980/1371980 [10:55<00:00, 2092.82it/s]\n"
     ]
    }
   ],
   "source": [
    "\n",
    "\n",
    "pred_list = []\n",
    "for cust_id in tqdm(sub['customer_id']):\n",
    "    if cust_id in purchase_dict:\n",
    "        series = pd.Series(purchase_dict[cust_id])\n",
    "        series = series[series > 150]\n",
    "        l = series.nlargest(N).index.tolist()\n",
    "        tmp_l = l.copy()\n",
    "        for elm in tmp_l:\n",
    "            if len(l) < N and int(elm) in pairs.keys():\n",
    "                itm = pairs[int(elm)]\n",
    "                l.append('0' + str(itm))\n",
    "        if len(l) < N:\n",
    "            l = l + general_pred[:(N-len(l))]\n",
    "    else:\n",
    "        l = general_pred\n",
    "    pred_list.append(' '.join(l))\n",
    "\n",
    "sub['prediction'] = pred_list\n",
    "sub.to_csv(f'submission_other_sub.csv',index=False)"
   ]
  },
  {
   "cell_type": "code",
   "execution_count": 21,
   "id": "3e2dfca1",
   "metadata": {},
   "outputs": [
    {
     "data": {
      "text/html": [
       "<div>\n",
       "<style scoped>\n",
       "    .dataframe tbody tr th:only-of-type {\n",
       "        vertical-align: middle;\n",
       "    }\n",
       "\n",
       "    .dataframe tbody tr th {\n",
       "        vertical-align: top;\n",
       "    }\n",
       "\n",
       "    .dataframe thead th {\n",
       "        text-align: right;\n",
       "    }\n",
       "</style>\n",
       "<table border=\"1\" class=\"dataframe\">\n",
       "  <thead>\n",
       "    <tr style=\"text-align: right;\">\n",
       "      <th></th>\n",
       "      <th>customer_id</th>\n",
       "      <th>prediction</th>\n",
       "    </tr>\n",
       "  </thead>\n",
       "  <tbody>\n",
       "    <tr>\n",
       "      <th>0</th>\n",
       "      <td>00000dbacae5abe5e23885899a1fa44253a17956c6d1c3...</td>\n",
       "      <td>0568601043 0568601006 0568601006 0568597006 04...</td>\n",
       "    </tr>\n",
       "    <tr>\n",
       "      <th>1</th>\n",
       "      <td>0000423b00ade91418cceaf3b26c6af3dd342b51fd051e...</td>\n",
       "      <td>0826211002 0800436010 0739590027 0706016001 06...</td>\n",
       "    </tr>\n",
       "    <tr>\n",
       "      <th>2</th>\n",
       "      <td>000058a12d5b43e67d225668fa1f8d618c13dc232df0ca...</td>\n",
       "      <td>0794321007 0852643001 0852643003 0858883002 07...</td>\n",
       "    </tr>\n",
       "    <tr>\n",
       "      <th>3</th>\n",
       "      <td>00005ca1c9ed5f5146b52ac8639a40ca9d57aeff4d1bd2...</td>\n",
       "      <td>0448509014 0573085028 0751471001 0706016001 06...</td>\n",
       "    </tr>\n",
       "    <tr>\n",
       "      <th>4</th>\n",
       "      <td>00006413d8573cd20ed7128e53b7b13819fe5cfc2d801f...</td>\n",
       "      <td>0730683050 0791587015 0896152002 0818320001 09...</td>\n",
       "    </tr>\n",
       "    <tr>\n",
       "      <th>...</th>\n",
       "      <td>...</td>\n",
       "      <td>...</td>\n",
       "    </tr>\n",
       "    <tr>\n",
       "      <th>1371975</th>\n",
       "      <td>ffffbbf78b6eaac697a8a5dfbfd2bfa8113ee5b403e474...</td>\n",
       "      <td>0804992033 0720125039 0713997002 0557599022 07...</td>\n",
       "    </tr>\n",
       "    <tr>\n",
       "      <th>1371976</th>\n",
       "      <td>ffffcd5046a6143d29a04fb8c424ce494a76e5cdf4fab5...</td>\n",
       "      <td>0818754002 0762846031 0759871030 0624486088 08...</td>\n",
       "    </tr>\n",
       "    <tr>\n",
       "      <th>1371977</th>\n",
       "      <td>ffffcf35913a0bee60e8741cb2b4e78b8a98ee5ff2e6a1...</td>\n",
       "      <td>0884081001 0762846027 0794819001 0689365050 06...</td>\n",
       "    </tr>\n",
       "    <tr>\n",
       "      <th>1371978</th>\n",
       "      <td>ffffd7744cebcf3aca44ae7049d2a94b87074c3d4ffe38...</td>\n",
       "      <td>0882810001 0714790020 0464297007 0448509014 04...</td>\n",
       "    </tr>\n",
       "    <tr>\n",
       "      <th>1371979</th>\n",
       "      <td>ffffd9ac14e89946416d80e791d064701994755c3ab686...</td>\n",
       "      <td>0806050001 0706016002 0448509014 0573085028 07...</td>\n",
       "    </tr>\n",
       "  </tbody>\n",
       "</table>\n",
       "<p>1371980 rows × 2 columns</p>\n",
       "</div>"
      ],
      "text/plain": [
       "                                               customer_id  \\\n",
       "0        00000dbacae5abe5e23885899a1fa44253a17956c6d1c3...   \n",
       "1        0000423b00ade91418cceaf3b26c6af3dd342b51fd051e...   \n",
       "2        000058a12d5b43e67d225668fa1f8d618c13dc232df0ca...   \n",
       "3        00005ca1c9ed5f5146b52ac8639a40ca9d57aeff4d1bd2...   \n",
       "4        00006413d8573cd20ed7128e53b7b13819fe5cfc2d801f...   \n",
       "...                                                    ...   \n",
       "1371975  ffffbbf78b6eaac697a8a5dfbfd2bfa8113ee5b403e474...   \n",
       "1371976  ffffcd5046a6143d29a04fb8c424ce494a76e5cdf4fab5...   \n",
       "1371977  ffffcf35913a0bee60e8741cb2b4e78b8a98ee5ff2e6a1...   \n",
       "1371978  ffffd7744cebcf3aca44ae7049d2a94b87074c3d4ffe38...   \n",
       "1371979  ffffd9ac14e89946416d80e791d064701994755c3ab686...   \n",
       "\n",
       "                                                prediction  \n",
       "0        0568601043 0568601006 0568601006 0568597006 04...  \n",
       "1        0826211002 0800436010 0739590027 0706016001 06...  \n",
       "2        0794321007 0852643001 0852643003 0858883002 07...  \n",
       "3        0448509014 0573085028 0751471001 0706016001 06...  \n",
       "4        0730683050 0791587015 0896152002 0818320001 09...  \n",
       "...                                                    ...  \n",
       "1371975  0804992033 0720125039 0713997002 0557599022 07...  \n",
       "1371976  0818754002 0762846031 0759871030 0624486088 08...  \n",
       "1371977  0884081001 0762846027 0794819001 0689365050 06...  \n",
       "1371978  0882810001 0714790020 0464297007 0448509014 04...  \n",
       "1371979  0806050001 0706016002 0448509014 0573085028 07...  \n",
       "\n",
       "[1371980 rows x 2 columns]"
      ]
     },
     "execution_count": 21,
     "metadata": {},
     "output_type": "execute_result"
    }
   ],
   "source": [
    "sub"
   ]
  }
 ],
 "metadata": {
  "kernelspec": {
   "display_name": "GPU_ACC",
   "language": "python",
   "name": "gpu_acc"
  },
  "language_info": {
   "codemirror_mode": {
    "name": "ipython",
    "version": 3
   },
   "file_extension": ".py",
   "mimetype": "text/x-python",
   "name": "python",
   "nbconvert_exporter": "python",
   "pygments_lexer": "ipython3",
   "version": "3.8.12"
  }
 },
 "nbformat": 4,
 "nbformat_minor": 5
}
