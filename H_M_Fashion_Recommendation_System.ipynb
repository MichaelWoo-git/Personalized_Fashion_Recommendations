{
 "cells": [
  {
   "cell_type": "markdown",
   "id": "4ec72eda",
   "metadata": {},
   "source": [
    "__Imports__"
   ]
  },
  {
   "cell_type": "code",
   "execution_count": 3,
   "id": "96684a9f",
   "metadata": {},
   "outputs": [],
   "source": [
    "import pandas as pd\n",
    "import numpy as np\n",
    "from tqdm.notebook import tqdm"
   ]
  },
  {
   "cell_type": "markdown",
   "id": "39ce9c17",
   "metadata": {},
   "source": [
    "__Read in Data__"
   ]
  },
  {
   "cell_type": "code",
   "execution_count": 4,
   "id": "d08b80aa",
   "metadata": {},
   "outputs": [
    {
     "data": {
      "text/html": [
       "<div>\n",
       "<style scoped>\n",
       "    .dataframe tbody tr th:only-of-type {\n",
       "        vertical-align: middle;\n",
       "    }\n",
       "\n",
       "    .dataframe tbody tr th {\n",
       "        vertical-align: top;\n",
       "    }\n",
       "\n",
       "    .dataframe thead th {\n",
       "        text-align: right;\n",
       "    }\n",
       "</style>\n",
       "<table border=\"1\" class=\"dataframe\">\n",
       "  <thead>\n",
       "    <tr style=\"text-align: right;\">\n",
       "      <th></th>\n",
       "      <th>t_dat</th>\n",
       "      <th>customer_id</th>\n",
       "      <th>article_id</th>\n",
       "      <th>price</th>\n",
       "      <th>sales_channel_id</th>\n",
       "    </tr>\n",
       "  </thead>\n",
       "  <tbody>\n",
       "    <tr>\n",
       "      <th>0</th>\n",
       "      <td>2018-09-20</td>\n",
       "      <td>000058a12d5b43e67d225668fa1f8d618c13dc232df0ca...</td>\n",
       "      <td>663713001</td>\n",
       "      <td>0.050831</td>\n",
       "      <td>2</td>\n",
       "    </tr>\n",
       "    <tr>\n",
       "      <th>1</th>\n",
       "      <td>2018-09-20</td>\n",
       "      <td>000058a12d5b43e67d225668fa1f8d618c13dc232df0ca...</td>\n",
       "      <td>541518023</td>\n",
       "      <td>0.030492</td>\n",
       "      <td>2</td>\n",
       "    </tr>\n",
       "    <tr>\n",
       "      <th>2</th>\n",
       "      <td>2018-09-20</td>\n",
       "      <td>00007d2de826758b65a93dd24ce629ed66842531df6699...</td>\n",
       "      <td>505221004</td>\n",
       "      <td>0.015237</td>\n",
       "      <td>2</td>\n",
       "    </tr>\n",
       "    <tr>\n",
       "      <th>3</th>\n",
       "      <td>2018-09-20</td>\n",
       "      <td>00007d2de826758b65a93dd24ce629ed66842531df6699...</td>\n",
       "      <td>685687003</td>\n",
       "      <td>0.016932</td>\n",
       "      <td>2</td>\n",
       "    </tr>\n",
       "    <tr>\n",
       "      <th>4</th>\n",
       "      <td>2018-09-20</td>\n",
       "      <td>00007d2de826758b65a93dd24ce629ed66842531df6699...</td>\n",
       "      <td>685687004</td>\n",
       "      <td>0.016932</td>\n",
       "      <td>2</td>\n",
       "    </tr>\n",
       "  </tbody>\n",
       "</table>\n",
       "</div>"
      ],
      "text/plain": [
       "        t_dat                                        customer_id  article_id  \\\n",
       "0  2018-09-20  000058a12d5b43e67d225668fa1f8d618c13dc232df0ca...   663713001   \n",
       "1  2018-09-20  000058a12d5b43e67d225668fa1f8d618c13dc232df0ca...   541518023   \n",
       "2  2018-09-20  00007d2de826758b65a93dd24ce629ed66842531df6699...   505221004   \n",
       "3  2018-09-20  00007d2de826758b65a93dd24ce629ed66842531df6699...   685687003   \n",
       "4  2018-09-20  00007d2de826758b65a93dd24ce629ed66842531df6699...   685687004   \n",
       "\n",
       "      price  sales_channel_id  \n",
       "0  0.050831                 2  \n",
       "1  0.030492                 2  \n",
       "2  0.015237                 2  \n",
       "3  0.016932                 2  \n",
       "4  0.016932                 2  "
      ]
     },
     "execution_count": 4,
     "metadata": {},
     "output_type": "execute_result"
    }
   ],
   "source": [
    "train = pd.read_csv(\"C:/Users/Michael/Github/transactions_train.csv\")\n",
    "train.head()"
   ]
  },
  {
   "cell_type": "markdown",
   "id": "1bb14235",
   "metadata": {},
   "source": [
    "__Converting Hex to Integers__"
   ]
  },
  {
   "cell_type": "code",
   "execution_count": 5,
   "id": "abac970c",
   "metadata": {},
   "outputs": [],
   "source": [
    "def hex_to_signed(source):\n",
    "    \"\"\"Convert a string hex value to a signed hexidecimal value.\n",
    "\n",
    "    This assumes that source is the proper length, and the sign bit\n",
    "    is the first bit in the first byte of the correct length.\n",
    "\n",
    "    hex_to_signed(\"F\") should return -1.\n",
    "    hex_to_signed(\"0F\") should return 15.\n",
    "    \"\"\"\n",
    "    if not isinstance(source, str):\n",
    "        raise ValueError(\"string type required\")\n",
    "    if 0 == len(source):\n",
    "        raise valueError(\"string is empty\")\n",
    "    sign_bit_mask = 1 << (len(source)*4-1)\n",
    "    other_bits_mask = sign_bit_mask - 1\n",
    "    value = int(source, 16)\n",
    "    return -(value & sign_bit_mask) | (value & other_bits_mask)"
   ]
  },
  {
   "cell_type": "markdown",
   "id": "adbc52c8",
   "metadata": {},
   "source": [
    "__Selecting and formating data types in dataframe__"
   ]
  },
  {
   "cell_type": "code",
   "execution_count": 6,
   "id": "9fa2d0c6",
   "metadata": {},
   "outputs": [
    {
     "data": {
      "text/html": [
       "<div>\n",
       "<style scoped>\n",
       "    .dataframe tbody tr th:only-of-type {\n",
       "        vertical-align: middle;\n",
       "    }\n",
       "\n",
       "    .dataframe tbody tr th {\n",
       "        vertical-align: top;\n",
       "    }\n",
       "\n",
       "    .dataframe thead th {\n",
       "        text-align: right;\n",
       "    }\n",
       "</style>\n",
       "<table border=\"1\" class=\"dataframe\">\n",
       "  <thead>\n",
       "    <tr style=\"text-align: right;\">\n",
       "      <th></th>\n",
       "      <th>t_dat</th>\n",
       "      <th>customer_id</th>\n",
       "      <th>article_id</th>\n",
       "    </tr>\n",
       "  </thead>\n",
       "  <tbody>\n",
       "    <tr>\n",
       "      <th>0</th>\n",
       "      <td>2018-09-20</td>\n",
       "      <td>6116990065284462810764946559699987067290722768...</td>\n",
       "      <td>663713001</td>\n",
       "    </tr>\n",
       "    <tr>\n",
       "      <th>1</th>\n",
       "      <td>2018-09-20</td>\n",
       "      <td>6116990065284462810764946559699987067290722768...</td>\n",
       "      <td>541518023</td>\n",
       "    </tr>\n",
       "    <tr>\n",
       "      <th>2</th>\n",
       "      <td>2018-09-20</td>\n",
       "      <td>8639559392216894130813047803836240585733025821...</td>\n",
       "      <td>505221004</td>\n",
       "    </tr>\n",
       "    <tr>\n",
       "      <th>3</th>\n",
       "      <td>2018-09-20</td>\n",
       "      <td>8639559392216894130813047803836240585733025821...</td>\n",
       "      <td>685687003</td>\n",
       "    </tr>\n",
       "    <tr>\n",
       "      <th>4</th>\n",
       "      <td>2018-09-20</td>\n",
       "      <td>8639559392216894130813047803836240585733025821...</td>\n",
       "      <td>685687004</td>\n",
       "    </tr>\n",
       "  </tbody>\n",
       "</table>\n",
       "</div>"
      ],
      "text/plain": [
       "       t_dat                                        customer_id  article_id\n",
       "0 2018-09-20  6116990065284462810764946559699987067290722768...   663713001\n",
       "1 2018-09-20  6116990065284462810764946559699987067290722768...   541518023\n",
       "2 2018-09-20  8639559392216894130813047803836240585733025821...   505221004\n",
       "3 2018-09-20  8639559392216894130813047803836240585733025821...   685687003\n",
       "4 2018-09-20  8639559392216894130813047803836240585733025821...   685687004"
      ]
     },
     "execution_count": 6,
     "metadata": {},
     "output_type": "execute_result"
    }
   ],
   "source": [
    "train['customer_id'] = train['customer_id'].apply(lambda x : hex_to_signed(x))\n",
    "train['article_id'] = train.article_id.astype('int32')\n",
    "train['t_dat'] = pd.to_datetime(train['t_dat'])\n",
    "train = train[['t_dat','customer_id','article_id']]\n",
    "train.head()"
   ]
  },
  {
   "cell_type": "markdown",
   "id": "7250d686",
   "metadata": {},
   "source": [
    "__Saving this for later__"
   ]
  },
  {
   "cell_type": "code",
   "execution_count": 7,
   "id": "fe8cf425",
   "metadata": {},
   "outputs": [],
   "source": [
    "# another_train = train"
   ]
  },
  {
   "cell_type": "markdown",
   "id": "4a691e7a",
   "metadata": {},
   "source": [
    "__Customer's Last Week Purchases__"
   ]
  },
  {
   "cell_type": "code",
   "execution_count": 8,
   "id": "89f8a462",
   "metadata": {},
   "outputs": [
    {
     "name": "stdout",
     "output_type": "stream",
     "text": [
      "Train shape: (5181535, 5)\n"
     ]
    },
    {
     "data": {
      "text/html": [
       "<div>\n",
       "<style scoped>\n",
       "    .dataframe tbody tr th:only-of-type {\n",
       "        vertical-align: middle;\n",
       "    }\n",
       "\n",
       "    .dataframe tbody tr th {\n",
       "        vertical-align: top;\n",
       "    }\n",
       "\n",
       "    .dataframe thead th {\n",
       "        text-align: right;\n",
       "    }\n",
       "</style>\n",
       "<table border=\"1\" class=\"dataframe\">\n",
       "  <thead>\n",
       "    <tr style=\"text-align: right;\">\n",
       "      <th></th>\n",
       "      <th>t_dat</th>\n",
       "      <th>customer_id</th>\n",
       "      <th>article_id</th>\n",
       "      <th>max_dat</th>\n",
       "      <th>diff_dat</th>\n",
       "    </tr>\n",
       "  </thead>\n",
       "  <tbody>\n",
       "    <tr>\n",
       "      <th>49</th>\n",
       "      <td>2018-09-20</td>\n",
       "      <td>5981405501434810419031299841272056822028636268...</td>\n",
       "      <td>649356002</td>\n",
       "      <td>2018-09-20</td>\n",
       "      <td>0</td>\n",
       "    </tr>\n",
       "    <tr>\n",
       "      <th>50</th>\n",
       "      <td>2018-09-20</td>\n",
       "      <td>5981405501434810419031299841272056822028636268...</td>\n",
       "      <td>579941002</td>\n",
       "      <td>2018-09-20</td>\n",
       "      <td>0</td>\n",
       "    </tr>\n",
       "    <tr>\n",
       "      <th>51</th>\n",
       "      <td>2018-09-20</td>\n",
       "      <td>5981405501434810419031299841272056822028636268...</td>\n",
       "      <td>629760002</td>\n",
       "      <td>2018-09-20</td>\n",
       "      <td>0</td>\n",
       "    </tr>\n",
       "    <tr>\n",
       "      <th>52</th>\n",
       "      <td>2018-09-20</td>\n",
       "      <td>5981405501434810419031299841272056822028636268...</td>\n",
       "      <td>625229004</td>\n",
       "      <td>2018-09-20</td>\n",
       "      <td>0</td>\n",
       "    </tr>\n",
       "    <tr>\n",
       "      <th>61</th>\n",
       "      <td>2018-09-20</td>\n",
       "      <td>1132591264840105692788114398749857557049430095...</td>\n",
       "      <td>613456009</td>\n",
       "      <td>2018-09-20</td>\n",
       "      <td>0</td>\n",
       "    </tr>\n",
       "  </tbody>\n",
       "</table>\n",
       "</div>"
      ],
      "text/plain": [
       "        t_dat                                        customer_id  article_id  \\\n",
       "49 2018-09-20  5981405501434810419031299841272056822028636268...   649356002   \n",
       "50 2018-09-20  5981405501434810419031299841272056822028636268...   579941002   \n",
       "51 2018-09-20  5981405501434810419031299841272056822028636268...   629760002   \n",
       "52 2018-09-20  5981405501434810419031299841272056822028636268...   625229004   \n",
       "61 2018-09-20  1132591264840105692788114398749857557049430095...   613456009   \n",
       "\n",
       "      max_dat  diff_dat  \n",
       "49 2018-09-20         0  \n",
       "50 2018-09-20         0  \n",
       "51 2018-09-20         0  \n",
       "52 2018-09-20         0  \n",
       "61 2018-09-20         0  "
      ]
     },
     "execution_count": 8,
     "metadata": {},
     "output_type": "execute_result"
    }
   ],
   "source": [
    "tmp = train.groupby('customer_id').t_dat.max().reset_index()\n",
    "tmp.columns = ['customer_id','max_dat']\n",
    "train = train.merge(tmp,on=['customer_id'],how='left')\n",
    "train['diff_dat'] = (train.max_dat - train.t_dat).dt.days\n",
    "train = train.loc[train['diff_dat']<=6]\n",
    "print('Train shape:',train.shape)\n",
    "train.head()"
   ]
  },
  {
   "cell_type": "markdown",
   "id": "964f83cb",
   "metadata": {},
   "source": [
    "__Recommendation Most Often Prev Purchased Items__"
   ]
  },
  {
   "cell_type": "code",
   "execution_count": 9,
   "id": "f2a016e1",
   "metadata": {},
   "outputs": [
    {
     "data": {
      "text/html": [
       "<div>\n",
       "<style scoped>\n",
       "    .dataframe tbody tr th:only-of-type {\n",
       "        vertical-align: middle;\n",
       "    }\n",
       "\n",
       "    .dataframe tbody tr th {\n",
       "        vertical-align: top;\n",
       "    }\n",
       "\n",
       "    .dataframe thead th {\n",
       "        text-align: right;\n",
       "    }\n",
       "</style>\n",
       "<table border=\"1\" class=\"dataframe\">\n",
       "  <thead>\n",
       "    <tr style=\"text-align: right;\">\n",
       "      <th></th>\n",
       "      <th>t_dat</th>\n",
       "      <th>customer_id</th>\n",
       "      <th>article_id</th>\n",
       "      <th>max_dat</th>\n",
       "      <th>diff_dat</th>\n",
       "      <th>ct</th>\n",
       "    </tr>\n",
       "  </thead>\n",
       "  <tbody>\n",
       "    <tr>\n",
       "      <th>1158548</th>\n",
       "      <td>2019-07-16</td>\n",
       "      <td>1122880311838375530037224418800749068125981861...</td>\n",
       "      <td>719348003</td>\n",
       "      <td>2019-07-16</td>\n",
       "      <td>0</td>\n",
       "      <td>100</td>\n",
       "    </tr>\n",
       "    <tr>\n",
       "      <th>80218</th>\n",
       "      <td>2018-10-04</td>\n",
       "      <td>-673191760722678788667587928976895833688046975...</td>\n",
       "      <td>557247001</td>\n",
       "      <td>2018-10-04</td>\n",
       "      <td>0</td>\n",
       "      <td>86</td>\n",
       "    </tr>\n",
       "    <tr>\n",
       "      <th>2149868</th>\n",
       "      <td>2020-03-06</td>\n",
       "      <td>9249039390400736591087536058610073983058079884...</td>\n",
       "      <td>852521001</td>\n",
       "      <td>2020-03-06</td>\n",
       "      <td>0</td>\n",
       "      <td>81</td>\n",
       "    </tr>\n",
       "    <tr>\n",
       "      <th>3423153</th>\n",
       "      <td>2020-07-06</td>\n",
       "      <td>-518177034797192986786595171574626635942011784...</td>\n",
       "      <td>685813001</td>\n",
       "      <td>2020-07-06</td>\n",
       "      <td>0</td>\n",
       "      <td>80</td>\n",
       "    </tr>\n",
       "    <tr>\n",
       "      <th>871769</th>\n",
       "      <td>2019-05-14</td>\n",
       "      <td>1283729545703826238940687917472870211201319841...</td>\n",
       "      <td>695545001</td>\n",
       "      <td>2019-05-14</td>\n",
       "      <td>0</td>\n",
       "      <td>80</td>\n",
       "    </tr>\n",
       "  </tbody>\n",
       "</table>\n",
       "</div>"
      ],
      "text/plain": [
       "             t_dat                                        customer_id  \\\n",
       "1158548 2019-07-16  1122880311838375530037224418800749068125981861...   \n",
       "80218   2018-10-04  -673191760722678788667587928976895833688046975...   \n",
       "2149868 2020-03-06  9249039390400736591087536058610073983058079884...   \n",
       "3423153 2020-07-06  -518177034797192986786595171574626635942011784...   \n",
       "871769  2019-05-14  1283729545703826238940687917472870211201319841...   \n",
       "\n",
       "         article_id    max_dat  diff_dat   ct  \n",
       "1158548   719348003 2019-07-16         0  100  \n",
       "80218     557247001 2018-10-04         0   86  \n",
       "2149868   852521001 2020-03-06         0   81  \n",
       "3423153   685813001 2020-07-06         0   80  \n",
       "871769    695545001 2019-05-14         0   80  "
      ]
     },
     "execution_count": 9,
     "metadata": {},
     "output_type": "execute_result"
    }
   ],
   "source": [
    "tmp = train.groupby(['customer_id','article_id'])['t_dat'].agg('count').reset_index()\n",
    "tmp.columns = ['customer_id','article_id','ct']\n",
    "train = train.merge(tmp,on=['customer_id','article_id'],how='left')\n",
    "train = train.sort_values(['ct','t_dat'],ascending=False)\n",
    "train = train.drop_duplicates(['customer_id','article_id'])\n",
    "train = train.sort_values(['ct','t_dat'],ascending=False)\n",
    "train.head()"
   ]
  },
  {
   "cell_type": "code",
   "execution_count": 10,
   "id": "3f9741e6",
   "metadata": {},
   "outputs": [],
   "source": [
    "df = train[['customer_id','article_id']]"
   ]
  },
  {
   "cell_type": "markdown",
   "id": "fa237d91",
   "metadata": {},
   "source": [
    "__Recommend Items Purchased Together__"
   ]
  },
  {
   "cell_type": "markdown",
   "id": "1cf29283",
   "metadata": {},
   "source": [
    "# USE PANDAS TO MAP COLUMN WITH DICTIONARY"
   ]
  },
  {
   "cell_type": "code",
   "execution_count": null,
   "id": "fd54e941",
   "metadata": {},
   "outputs": [],
   "source": [
    "pairs = np.load('pairs.npy',allow_pickle=True).item()\n",
    "train['article_id2'] = train.article_id.map(pairs)\n",
    "train.head()"
   ]
  },
  {
   "cell_type": "markdown",
   "id": "7fa56184",
   "metadata": {},
   "source": [
    "# RECOMMENDATION OF PAIRED ITEMS"
   ]
  },
  {
   "cell_type": "code",
   "execution_count": null,
   "id": "98de910d",
   "metadata": {},
   "outputs": [],
   "source": [
    "train2 = train[['customer_id','article_id2']].copy()\n",
    "train2 = train2.loc[train2.article_id2.notnull()]\n",
    "train2 = train2.drop_duplicates(['customer_id','article_id2'])\n",
    "train2 = train2.rename({'article_id2':'article_id'},axis=1)\n",
    "train2.head()"
   ]
  },
  {
   "cell_type": "markdown",
   "id": "0ec38b4e",
   "metadata": {},
   "source": [
    "# CONCATENATE PAIRED ITEM RECOMMENDATION AFTER PREVIOUS PURCHASED RECOMMENDATIONS"
   ]
  },
  {
   "cell_type": "code",
   "execution_count": null,
   "id": "cdd84a3c",
   "metadata": {},
   "outputs": [],
   "source": [
    "train = train[['customer_id','article_id']]\n",
    "train = pd.concat([train,train2],axis=0,ignore_index=True)\n",
    "train.article_id = train.article_id.astype('int32')\n",
    "train = train.drop_duplicates(['customer_id','article_id'])\n",
    "train.head()"
   ]
  },
  {
   "cell_type": "markdown",
   "id": "0968a55c",
   "metadata": {},
   "source": [
    "# CONVERT RECOMMENDATIONS INTO SINGLE STRING"
   ]
  },
  {
   "cell_type": "code",
   "execution_count": null,
   "id": "aeaaa9d2",
   "metadata": {},
   "outputs": [],
   "source": [
    "train.article_id = ' 0' + train.article_id.astype('str')\n",
    "preds = pd.DataFrame( train.groupby('customer_id').article_id.sum().reset_index() )\n",
    "preds.columns = ['customer_id','prediction']\n",
    "preds.head()"
   ]
  },
  {
   "cell_type": "code",
   "execution_count": null,
   "id": "b4e05740",
   "metadata": {},
   "outputs": [],
   "source": [
    "another_train.t_dat = pd.to_datetime(another_train.t_dat)\n",
    "another_train = another_train.loc[another_train.t_dat >= pd.to_datetime('2020-09-16')]\n",
    "top12 = ' 0' + ' 0'.join(another_train.article_id.value_counts().index.astype('str')[:12])\n",
    "print(\"Last week's top 12 popular items:\")\n",
    "print( top12 )"
   ]
  },
  {
   "cell_type": "code",
   "execution_count": null,
   "id": "70079d30",
   "metadata": {},
   "outputs": [],
   "source": [
    "sub = pd.read_csv(\"C:/Users/Michael/Github/sample_submission.csv\")\n",
    "sub = sub[['customer_id']]\n",
    "sub['customer_id_2'] = sub['customer_id'].apply(lambda x : hex_to_signed(x))\n",
    "sub = sub.merge(preds.rename({'customer_id':'customer_id_2'},axis=1),on='customer_id_2', how='left').fillna('')\n",
    "\n",
    "del sub['customer_id_2']\n",
    "sub.prediction = sub.prediction + top12\n",
    "sub.prediction = sub.prediction.str.strip()\n",
    "sub.prediction = sub.prediction.str[:131]\n",
    "#sub.to_csv(f'submission.csv',index=False)\n",
    "sub.head()"
   ]
  },
  {
   "cell_type": "code",
   "execution_count": null,
   "id": "5e91a41b",
   "metadata": {},
   "outputs": [],
   "source": [
    "sub.to_csv(f'submission_04_30_2022.csv',index=False)"
   ]
  },
  {
   "cell_type": "code",
   "execution_count": null,
   "id": "d7dd9da7",
   "metadata": {},
   "outputs": [],
   "source": []
  }
 ],
 "metadata": {
  "kernelspec": {
   "display_name": "GPU_ACC",
   "language": "python",
   "name": "gpu_acc"
  },
  "language_info": {
   "codemirror_mode": {
    "name": "ipython",
    "version": 3
   },
   "file_extension": ".py",
   "mimetype": "text/x-python",
   "name": "python",
   "nbconvert_exporter": "python",
   "pygments_lexer": "ipython3",
   "version": "3.8.12"
  }
 },
 "nbformat": 4,
 "nbformat_minor": 5
}
